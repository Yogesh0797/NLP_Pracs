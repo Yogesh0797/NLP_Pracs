{
  "nbformat": 4,
  "nbformat_minor": 0,
  "metadata": {
    "colab": {
      "name": "08_Yogesh_Mishra_NLP Task1.ipynb",
      "provenance": [],
      "collapsed_sections": [],
      "authorship_tag": "ABX9TyNVHOZk6nJ1aZNECLbQqFVG",
      "include_colab_link": true
    },
    "kernelspec": {
      "name": "python3",
      "display_name": "Python 3"
    },
    "language_info": {
      "name": "python"
    }
  },
  "cells": [
    {
      "cell_type": "markdown",
      "metadata": {
        "id": "view-in-github",
        "colab_type": "text"
      },
      "source": [
        "<a href=\"https://colab.research.google.com/github/Yogesh0797/NLP_Pracs/blob/main/08_Yogesh_Mishra_NLP_Task1.ipynb\" target=\"_parent\"><img src=\"https://colab.research.google.com/assets/colab-badge.svg\" alt=\"Open In Colab\"/></a>"
      ]
    },
    {
      "cell_type": "markdown",
      "metadata": {
        "id": "cZ_igrbZGTBX"
      },
      "source": [
        "Text:\n",
        "\n",
        "The Department of Information Technology at Ramniranjan Jhunjhunwala College, Ghatkopar, Mumbai was established in 2007. The Department offers both undergraduate (B.Sc. IT) and postgraduate (M.Sc. IT) programmes. The M.Sc IT programme was introduced in the year 2016.\n",
        "\n",
        "Using Given Text, Solve the following questions:\n",
        "\n",
        "Tokenize the given text into sentences and words.\n",
        "\n",
        "Pos tag each word to display its grammatical information\n",
        "\n",
        "Apply chunking to extract the following sentence from the given text.\n",
        "The Department offers both undergraduate (B.Sc. IT) and postgraduate (M.Sc. IT) programmes.\n",
        "\n",
        "After chunking (Q. 4), POS tag the sentence and search for the information about programs B.Sc. IT and M.Sc. IT using POS taggers and Regular Expression.\n",
        "\n",
        "Display the parser tree for the Noun Phrase for the chunk derived in Q. 4 \n",
        "\n",
        "Get the Bog of words for the given text and display the word with its frequency.\n",
        "Remove the stop words from the BOW that is retrieved in Q. 6. \n",
        "Stem the Words of Q. 7.\n",
        "\n",
        "Find and display Lemma for the words that are retrieved in Q. 7 using lemmatization. \n",
        " \n",
        " Find the synonym and antonym of words ‘establish’ and ‘introduce’.\n"
      ]
    },
    {
      "cell_type": "code",
      "metadata": {
        "colab": {
          "base_uri": "https://localhost:8080/"
        },
        "id": "H352JHj_CmeV",
        "outputId": "103e5cb0-5164-4514-9a1d-552253148e76"
      },
      "source": [
        "import nltk\n",
        "nltk.download('punkt')\n",
        "from nltk.tokenize import word_tokenize\n",
        "txt = \"The Department of Information Technology at Ramniranjan Jhunjhunwala College, Ghatkopar, Mumbai was established in 2007. The Department offers both undergraduate (B.Sc. IT) and postgraduate (M.Sc. IT) programmes. The M.Sc IT programme was introduced in the year 2016.\"\n",
        "word_tokenize(txt)"
      ],
      "execution_count": 1,
      "outputs": [
        {
          "output_type": "stream",
          "text": [
            "[nltk_data] Downloading package punkt to /root/nltk_data...\n",
            "[nltk_data]   Unzipping tokenizers/punkt.zip.\n"
          ],
          "name": "stdout"
        },
        {
          "output_type": "execute_result",
          "data": {
            "text/plain": [
              "['The',\n",
              " 'Department',\n",
              " 'of',\n",
              " 'Information',\n",
              " 'Technology',\n",
              " 'at',\n",
              " 'Ramniranjan',\n",
              " 'Jhunjhunwala',\n",
              " 'College',\n",
              " ',',\n",
              " 'Ghatkopar',\n",
              " ',',\n",
              " 'Mumbai',\n",
              " 'was',\n",
              " 'established',\n",
              " 'in',\n",
              " '2007',\n",
              " '.',\n",
              " 'The',\n",
              " 'Department',\n",
              " 'offers',\n",
              " 'both',\n",
              " 'undergraduate',\n",
              " '(',\n",
              " 'B.Sc',\n",
              " '.',\n",
              " 'IT',\n",
              " ')',\n",
              " 'and',\n",
              " 'postgraduate',\n",
              " '(',\n",
              " 'M.Sc',\n",
              " '.',\n",
              " 'IT',\n",
              " ')',\n",
              " 'programmes',\n",
              " '.',\n",
              " 'The',\n",
              " 'M.Sc',\n",
              " 'IT',\n",
              " 'programme',\n",
              " 'was',\n",
              " 'introduced',\n",
              " 'in',\n",
              " 'the',\n",
              " 'year',\n",
              " '2016',\n",
              " '.']"
            ]
          },
          "metadata": {
            "tags": []
          },
          "execution_count": 1
        }
      ]
    },
    {
      "cell_type": "code",
      "metadata": {
        "colab": {
          "base_uri": "https://localhost:8080/"
        },
        "id": "2DIZfcK1EN-I",
        "outputId": "863fc5bb-bfe8-4856-b1c6-371bdb9fd135"
      },
      "source": [
        "from nltk.tokenize import sent_tokenize\n",
        "par = \"The Department of Information Technology at Ramniranjan Jhunjhunwala College, Ghatkopar, Mumbai was established in 2007. The Department offers both undergraduate (B.Sc. IT) and postgraduate (M.Sc. IT) programmes. The M.Sc IT programme was introduced in the year 2016.\"\n",
        "sent_tokenize(par)"
      ],
      "execution_count": 2,
      "outputs": [
        {
          "output_type": "execute_result",
          "data": {
            "text/plain": [
              "['The Department of Information Technology at Ramniranjan Jhunjhunwala College, Ghatkopar, Mumbai was established in 2007.',\n",
              " 'The Department offers both undergraduate (B.Sc.',\n",
              " 'IT) and postgraduate (M.Sc.',\n",
              " 'IT) programmes.',\n",
              " 'The M.Sc IT programme was introduced in the year 2016.']"
            ]
          },
          "metadata": {
            "tags": []
          },
          "execution_count": 2
        }
      ]
    },
    {
      "cell_type": "code",
      "metadata": {
        "colab": {
          "base_uri": "https://localhost:8080/"
        },
        "id": "jCHQz2KHE5wz",
        "outputId": "682a3dd8-06fa-450d-dae8-12c488c9ab00"
      },
      "source": [
        "import nltk\n",
        "nltk.download()\n",
        "import nltk\n",
        "from nltk.corpus import stopwords\n",
        "from nltk.tokenize import word_tokenize, sent_tokenize"
      ],
      "execution_count": 3,
      "outputs": [
        {
          "output_type": "stream",
          "text": [
            "NLTK Downloader\n",
            "---------------------------------------------------------------------------\n",
            "    d) Download   l) List    u) Update   c) Config   h) Help   q) Quit\n",
            "---------------------------------------------------------------------------\n",
            "Downloader> d\n",
            "\n",
            "Download which package (l=list; x=cancel)?\n",
            "  Identifier> l\n",
            "Packages:\n",
            "  [ ] abc................. Australian Broadcasting Commission 2006\n",
            "  [ ] alpino.............. Alpino Dutch Treebank\n",
            "  [ ] averaged_perceptron_tagger Averaged Perceptron Tagger\n",
            "  [ ] averaged_perceptron_tagger_ru Averaged Perceptron Tagger (Russian)\n",
            "  [ ] basque_grammars..... Grammars for Basque\n",
            "  [ ] biocreative_ppi..... BioCreAtIvE (Critical Assessment of Information\n",
            "                           Extraction Systems in Biology)\n",
            "  [ ] bllip_wsj_no_aux.... BLLIP Parser: WSJ Model\n",
            "  [ ] book_grammars....... Grammars from NLTK Book\n",
            "  [ ] brown............... Brown Corpus\n",
            "  [ ] brown_tei........... Brown Corpus (TEI XML Version)\n",
            "  [ ] cess_cat............ CESS-CAT Treebank\n",
            "  [ ] cess_esp............ CESS-ESP Treebank\n",
            "  [ ] chat80.............. Chat-80 Data Files\n",
            "  [ ] city_database....... City Database\n",
            "  [ ] cmudict............. The Carnegie Mellon Pronouncing Dictionary (0.6)\n",
            "  [ ] comparative_sentences Comparative Sentence Dataset\n",
            "  [ ] comtrans............ ComTrans Corpus Sample\n",
            "  [ ] conll2000........... CONLL 2000 Chunking Corpus\n",
            "  [ ] conll2002........... CONLL 2002 Named Entity Recognition Corpus\n",
            "Hit Enter to continue: \n",
            "  [ ] conll2007........... Dependency Treebanks from CoNLL 2007 (Catalan\n",
            "                           and Basque Subset)\n",
            "  [ ] crubadan............ Crubadan Corpus\n",
            "  [ ] dependency_treebank. Dependency Parsed Treebank\n",
            "  [ ] dolch............... Dolch Word List\n",
            "  [ ] europarl_raw........ Sample European Parliament Proceedings Parallel\n",
            "                           Corpus\n",
            "  [ ] floresta............ Portuguese Treebank\n",
            "  [ ] framenet_v15........ FrameNet 1.5\n",
            "  [ ] framenet_v17........ FrameNet 1.7\n",
            "  [ ] gazetteers.......... Gazeteer Lists\n",
            "  [ ] genesis............. Genesis Corpus\n",
            "  [ ] gutenberg........... Project Gutenberg Selections\n",
            "  [ ] ieer................ NIST IE-ER DATA SAMPLE\n",
            "  [ ] inaugural........... C-Span Inaugural Address Corpus\n",
            "  [ ] indian.............. Indian Language POS-Tagged Corpus\n",
            "  [ ] jeita............... JEITA Public Morphologically Tagged Corpus (in\n",
            "                           ChaSen format)\n",
            "  [ ] kimmo............... PC-KIMMO Data Files\n",
            "  [ ] knbc................ KNB Corpus (Annotated blog corpus)\n",
            "  [ ] large_grammars...... Large context-free and feature-based grammars\n",
            "                           for parser comparison\n",
            "Hit Enter to continue: \n",
            "  [ ] lin_thesaurus....... Lin's Dependency Thesaurus\n",
            "  [ ] mac_morpho.......... MAC-MORPHO: Brazilian Portuguese news text with\n",
            "                           part-of-speech tags\n",
            "  [ ] machado............. Machado de Assis -- Obra Completa\n",
            "  [ ] masc_tagged......... MASC Tagged Corpus\n",
            "  [ ] maxent_ne_chunker... ACE Named Entity Chunker (Maximum entropy)\n",
            "  [ ] maxent_treebank_pos_tagger Treebank Part of Speech Tagger (Maximum entropy)\n",
            "  [ ] moses_sample........ Moses Sample Models\n",
            "  [ ] movie_reviews....... Sentiment Polarity Dataset Version 2.0\n",
            "  [ ] mte_teip5........... MULTEXT-East 1984 annotated corpus 4.0\n",
            "  [ ] mwa_ppdb............ The monolingual word aligner (Sultan et al.\n",
            "                           2015) subset of the Paraphrase Database.\n",
            "  [ ] names............... Names Corpus, Version 1.3 (1994-03-29)\n",
            "  [ ] nombank.1.0......... NomBank Corpus 1.0\n",
            "  [ ] nonbreaking_prefixes Non-Breaking Prefixes (Moses Decoder)\n",
            "  [ ] nps_chat............ NPS Chat\n",
            "  [ ] omw................. Open Multilingual Wordnet\n",
            "  [ ] opinion_lexicon..... Opinion Lexicon\n",
            "  [ ] panlex_swadesh...... PanLex Swadesh Corpora\n",
            "  [ ] paradigms........... Paradigm Corpus\n",
            "  [ ] pe08................ Cross-Framework and Cross-Domain Parser\n",
            "                           Evaluation Shared Task\n",
            "Hit Enter to continue: \n",
            "  [ ] perluniprops........ perluniprops: Index of Unicode Version 7.0.0\n",
            "                           character properties in Perl\n",
            "  [ ] pil................. The Patient Information Leaflet (PIL) Corpus\n",
            "  [ ] pl196x.............. Polish language of the XX century sixties\n",
            "  [ ] porter_test......... Porter Stemmer Test Files\n",
            "  [ ] ppattach............ Prepositional Phrase Attachment Corpus\n",
            "  [ ] problem_reports..... Problem Report Corpus\n",
            "  [ ] product_reviews_1... Product Reviews (5 Products)\n",
            "  [ ] product_reviews_2... Product Reviews (9 Products)\n",
            "  [ ] propbank............ Proposition Bank Corpus 1.0\n",
            "  [ ] pros_cons........... Pros and Cons\n",
            "  [ ] ptb................. Penn Treebank\n",
            "  [ ] qc.................. Experimental Data for Question Classification\n",
            "  [ ] reuters............. The Reuters-21578 benchmark corpus, ApteMod\n",
            "                           version\n",
            "  [ ] rslp................ RSLP Stemmer (Removedor de Sufixos da Lingua\n",
            "                           Portuguesa)\n",
            "  [ ] rte................. PASCAL RTE Challenges 1, 2, and 3\n",
            "  [ ] sample_grammars..... Sample Grammars\n",
            "  [ ] semcor.............. SemCor 3.0\n",
            "  [ ] senseval............ SENSEVAL 2 Corpus: Sense Tagged Text\n",
            "Hit Enter to continue: \n",
            "  [ ] sentence_polarity... Sentence Polarity Dataset v1.0\n",
            "  [ ] sentiwordnet........ SentiWordNet\n",
            "  [ ] shakespeare......... Shakespeare XML Corpus Sample\n",
            "  [ ] sinica_treebank..... Sinica Treebank Corpus Sample\n",
            "  [ ] smultron............ SMULTRON Corpus Sample\n",
            "  [ ] snowball_data....... Snowball Data\n",
            "  [ ] spanish_grammars.... Grammars for Spanish\n",
            "  [ ] state_union......... C-Span State of the Union Address Corpus\n",
            "  [ ] stopwords........... Stopwords Corpus\n",
            "  [ ] subjectivity........ Subjectivity Dataset v1.0\n",
            "  [ ] swadesh............. Swadesh Wordlists\n",
            "  [ ] switchboard......... Switchboard Corpus Sample\n",
            "  [ ] tagsets............. Help on Tagsets\n",
            "  [ ] timit............... TIMIT Corpus Sample\n",
            "  [ ] toolbox............. Toolbox Sample Files\n",
            "  [ ] treebank............ Penn Treebank Sample\n",
            "  [ ] twitter_samples..... Twitter Samples\n",
            "  [ ] udhr2............... Universal Declaration of Human Rights Corpus\n",
            "                           (Unicode Version)\n",
            "  [ ] udhr................ Universal Declaration of Human Rights Corpus\n",
            "  [ ] unicode_samples..... Unicode Samples\n",
            "Hit Enter to continue: \n",
            "  [ ] universal_tagset.... Mappings to the Universal Part-of-Speech Tagset\n",
            "  [ ] universal_treebanks_v20 Universal Treebanks Version 2.0\n",
            "  [ ] vader_lexicon....... VADER Sentiment Lexicon\n",
            "  [ ] verbnet3............ VerbNet Lexicon, Version 3.3\n",
            "  [ ] verbnet............. VerbNet Lexicon, Version 2.1\n",
            "  [ ] webtext............. Web Text Corpus\n",
            "  [ ] wmt15_eval.......... Evaluation data from WMT15\n",
            "  [ ] word2vec_sample..... Word2Vec Sample\n",
            "  [ ] wordnet............. WordNet\n",
            "  [ ] wordnet_ic.......... WordNet-InfoContent\n",
            "  [ ] words............... Word Lists\n",
            "  [ ] ycoe................ York-Toronto-Helsinki Parsed Corpus of Old\n",
            "                           English Prose\n",
            "\n",
            "Collections:\n",
            "  [ ] all-corpora......... All the corpora\n",
            "  [P] all-nltk............ All packages available on nltk_data gh-pages\n",
            "                           branch\n",
            "  [P] all................. All packages\n",
            "  [P] book................ Everything used in the NLTK Book\n",
            "  [P] popular............. Popular packages\n",
            "  [ ] tests............... Packages for running tests\n",
            "Hit Enter to continue: \n",
            "  [ ] third-party......... Third-party data packages\n",
            "\n",
            "([*] marks installed packages; [P] marks partially installed collections)\n",
            "\n",
            "Download which package (l=list; x=cancel)?\n",
            "  Identifier> l\n",
            "Packages:\n",
            "  [ ] abc................. Australian Broadcasting Commission 2006\n",
            "  [ ] alpino.............. Alpino Dutch Treebank\n",
            "  [ ] averaged_perceptron_tagger Averaged Perceptron Tagger\n",
            "  [ ] averaged_perceptron_tagger_ru Averaged Perceptron Tagger (Russian)\n",
            "  [ ] basque_grammars..... Grammars for Basque\n",
            "  [ ] biocreative_ppi..... BioCreAtIvE (Critical Assessment of Information\n",
            "                           Extraction Systems in Biology)\n",
            "  [ ] bllip_wsj_no_aux.... BLLIP Parser: WSJ Model\n",
            "  [ ] book_grammars....... Grammars from NLTK Book\n",
            "  [ ] brown............... Brown Corpus\n",
            "  [ ] brown_tei........... Brown Corpus (TEI XML Version)\n",
            "  [ ] cess_cat............ CESS-CAT Treebank\n",
            "  [ ] cess_esp............ CESS-ESP Treebank\n",
            "  [ ] chat80.............. Chat-80 Data Files\n",
            "  [ ] city_database....... City Database\n",
            "  [ ] cmudict............. The Carnegie Mellon Pronouncing Dictionary (0.6)\n",
            "  [ ] comparative_sentences Comparative Sentence Dataset\n",
            "  [ ] comtrans............ ComTrans Corpus Sample\n",
            "  [ ] conll2000........... CONLL 2000 Chunking Corpus\n",
            "  [ ] conll2002........... CONLL 2002 Named Entity Recognition Corpus\n",
            "Hit Enter to continue: \n",
            "  [ ] conll2007........... Dependency Treebanks from CoNLL 2007 (Catalan\n",
            "                           and Basque Subset)\n",
            "  [ ] crubadan............ Crubadan Corpus\n",
            "  [ ] dependency_treebank. Dependency Parsed Treebank\n",
            "  [ ] dolch............... Dolch Word List\n",
            "  [ ] europarl_raw........ Sample European Parliament Proceedings Parallel\n",
            "                           Corpus\n",
            "  [ ] floresta............ Portuguese Treebank\n",
            "  [ ] framenet_v15........ FrameNet 1.5\n",
            "  [ ] framenet_v17........ FrameNet 1.7\n",
            "  [ ] gazetteers.......... Gazeteer Lists\n",
            "  [ ] genesis............. Genesis Corpus\n",
            "  [ ] gutenberg........... Project Gutenberg Selections\n",
            "  [ ] ieer................ NIST IE-ER DATA SAMPLE\n",
            "  [ ] inaugural........... C-Span Inaugural Address Corpus\n",
            "  [ ] indian.............. Indian Language POS-Tagged Corpus\n",
            "  [ ] jeita............... JEITA Public Morphologically Tagged Corpus (in\n",
            "                           ChaSen format)\n",
            "  [ ] kimmo............... PC-KIMMO Data Files\n",
            "  [ ] knbc................ KNB Corpus (Annotated blog corpus)\n",
            "  [ ] large_grammars...... Large context-free and feature-based grammars\n",
            "                           for parser comparison\n",
            "Hit Enter to continue: l\n",
            "  [ ] lin_thesaurus....... Lin's Dependency Thesaurus\n",
            "  [ ] mac_morpho.......... MAC-MORPHO: Brazilian Portuguese news text with\n",
            "                           part-of-speech tags\n",
            "  [ ] machado............. Machado de Assis -- Obra Completa\n",
            "  [ ] masc_tagged......... MASC Tagged Corpus\n",
            "  [ ] maxent_ne_chunker... ACE Named Entity Chunker (Maximum entropy)\n",
            "  [ ] maxent_treebank_pos_tagger Treebank Part of Speech Tagger (Maximum entropy)\n",
            "  [ ] moses_sample........ Moses Sample Models\n",
            "  [ ] movie_reviews....... Sentiment Polarity Dataset Version 2.0\n",
            "  [ ] mte_teip5........... MULTEXT-East 1984 annotated corpus 4.0\n",
            "  [ ] mwa_ppdb............ The monolingual word aligner (Sultan et al.\n",
            "                           2015) subset of the Paraphrase Database.\n",
            "  [ ] names............... Names Corpus, Version 1.3 (1994-03-29)\n",
            "  [ ] nombank.1.0......... NomBank Corpus 1.0\n",
            "  [ ] nonbreaking_prefixes Non-Breaking Prefixes (Moses Decoder)\n",
            "  [ ] nps_chat............ NPS Chat\n",
            "  [ ] omw................. Open Multilingual Wordnet\n",
            "  [ ] opinion_lexicon..... Opinion Lexicon\n",
            "  [ ] panlex_swadesh...... PanLex Swadesh Corpora\n",
            "  [ ] paradigms........... Paradigm Corpus\n",
            "  [ ] pe08................ Cross-Framework and Cross-Domain Parser\n",
            "                           Evaluation Shared Task\n",
            "Hit Enter to continue: \n",
            "  [ ] perluniprops........ perluniprops: Index of Unicode Version 7.0.0\n",
            "                           character properties in Perl\n",
            "  [ ] pil................. The Patient Information Leaflet (PIL) Corpus\n",
            "  [ ] pl196x.............. Polish language of the XX century sixties\n",
            "  [ ] porter_test......... Porter Stemmer Test Files\n",
            "  [ ] ppattach............ Prepositional Phrase Attachment Corpus\n",
            "  [ ] problem_reports..... Problem Report Corpus\n",
            "  [ ] product_reviews_1... Product Reviews (5 Products)\n",
            "  [ ] product_reviews_2... Product Reviews (9 Products)\n",
            "  [ ] propbank............ Proposition Bank Corpus 1.0\n",
            "  [ ] pros_cons........... Pros and Cons\n",
            "  [ ] ptb................. Penn Treebank\n",
            "  [ ] qc.................. Experimental Data for Question Classification\n",
            "  [ ] reuters............. The Reuters-21578 benchmark corpus, ApteMod\n",
            "                           version\n",
            "  [ ] rslp................ RSLP Stemmer (Removedor de Sufixos da Lingua\n",
            "                           Portuguesa)\n",
            "  [ ] rte................. PASCAL RTE Challenges 1, 2, and 3\n",
            "  [ ] sample_grammars..... Sample Grammars\n",
            "  [ ] semcor.............. SemCor 3.0\n",
            "  [ ] senseval............ SENSEVAL 2 Corpus: Sense Tagged Text\n",
            "Hit Enter to continue: \n",
            "  [ ] sentence_polarity... Sentence Polarity Dataset v1.0\n",
            "  [ ] sentiwordnet........ SentiWordNet\n",
            "  [ ] shakespeare......... Shakespeare XML Corpus Sample\n",
            "  [ ] sinica_treebank..... Sinica Treebank Corpus Sample\n",
            "  [ ] smultron............ SMULTRON Corpus Sample\n",
            "  [ ] snowball_data....... Snowball Data\n",
            "  [ ] spanish_grammars.... Grammars for Spanish\n",
            "  [ ] state_union......... C-Span State of the Union Address Corpus\n",
            "  [ ] stopwords........... Stopwords Corpus\n",
            "  [ ] subjectivity........ Subjectivity Dataset v1.0\n",
            "  [ ] swadesh............. Swadesh Wordlists\n",
            "  [ ] switchboard......... Switchboard Corpus Sample\n",
            "  [ ] tagsets............. Help on Tagsets\n",
            "  [ ] timit............... TIMIT Corpus Sample\n",
            "  [ ] toolbox............. Toolbox Sample Files\n",
            "  [ ] treebank............ Penn Treebank Sample\n",
            "  [ ] twitter_samples..... Twitter Samples\n",
            "  [ ] udhr2............... Universal Declaration of Human Rights Corpus\n",
            "                           (Unicode Version)\n",
            "  [ ] udhr................ Universal Declaration of Human Rights Corpus\n",
            "  [ ] unicode_samples..... Unicode Samples\n",
            "Hit Enter to continue: \n",
            "  [ ] universal_tagset.... Mappings to the Universal Part-of-Speech Tagset\n",
            "  [ ] universal_treebanks_v20 Universal Treebanks Version 2.0\n",
            "  [ ] vader_lexicon....... VADER Sentiment Lexicon\n",
            "  [ ] verbnet3............ VerbNet Lexicon, Version 3.3\n",
            "  [ ] verbnet............. VerbNet Lexicon, Version 2.1\n",
            "  [ ] webtext............. Web Text Corpus\n",
            "  [ ] wmt15_eval.......... Evaluation data from WMT15\n",
            "  [ ] word2vec_sample..... Word2Vec Sample\n",
            "  [ ] wordnet............. WordNet\n",
            "  [ ] wordnet_ic.......... WordNet-InfoContent\n",
            "  [ ] words............... Word Lists\n",
            "  [ ] ycoe................ York-Toronto-Helsinki Parsed Corpus of Old\n",
            "                           English Prose\n",
            "\n",
            "Collections:\n",
            "  [ ] all-corpora......... All the corpora\n",
            "  [P] all-nltk............ All packages available on nltk_data gh-pages\n",
            "                           branch\n",
            "  [P] all................. All packages\n",
            "  [P] book................ Everything used in the NLTK Book\n",
            "  [P] popular............. Popular packages\n",
            "  [ ] tests............... Packages for running tests\n",
            "Hit Enter to continue: \n",
            "  [ ] third-party......... Third-party data packages\n",
            "\n",
            "([*] marks installed packages; [P] marks partially installed collections)\n",
            "\n",
            "Download which package (l=list; x=cancel)?\n",
            "  Identifier> x\n",
            "\n",
            "---------------------------------------------------------------------------\n",
            "    d) Download   l) List    u) Update   c) Config   h) Help   q) Quit\n",
            "---------------------------------------------------------------------------\n",
            "Downloader> q\n"
          ],
          "name": "stdout"
        }
      ]
    },
    {
      "cell_type": "code",
      "metadata": {
        "colab": {
          "base_uri": "https://localhost:8080/"
        },
        "id": "ddLDqL7zG_8g",
        "outputId": "7578525b-1f66-4326-8c1c-d106866fc4f0"
      },
      "source": [
        "import nltk\n",
        "nltk.download('stopwords')\n",
        "stop_words = set(stopwords.words('english'))\n",
        "txt = \"The Department of Information Technology at Ramniranjan Jhunjhunwala College, Ghatkopar, Mumbai was established in 2007. The Department offers both undergraduate (B.Sc. IT) and postgraduate (M.Sc. IT) programmes. The M.Sc IT programme was introduced in the year 2016.\""
      ],
      "execution_count": 6,
      "outputs": [
        {
          "output_type": "stream",
          "text": [
            "[nltk_data] Downloading package stopwords to /root/nltk_data...\n",
            "[nltk_data]   Package stopwords is already up-to-date!\n"
          ],
          "name": "stdout"
        }
      ]
    },
    {
      "cell_type": "code",
      "metadata": {
        "colab": {
          "base_uri": "https://localhost:8080/"
        },
        "id": "09XJsCF3HFGD",
        "outputId": "5f6c6002-4425-4bf6-b3e0-7a4153242441"
      },
      "source": [
        "import nltk\n",
        "nltk.download('averaged_perceptron_tagger')\n",
        "tokenized = sent_tokenize(txt)\n",
        "for i in tokenized:\n",
        " wordsList = nltk.word_tokenize(i)\n",
        " wordsList = [w for w in wordsList if not w in stop_words] \n",
        " tagged = nltk.pos_tag(wordsList) \n",
        "print(tagged)"
      ],
      "execution_count": 7,
      "outputs": [
        {
          "output_type": "stream",
          "text": [
            "[nltk_data] Downloading package averaged_perceptron_tagger to\n",
            "[nltk_data]     /root/nltk_data...\n",
            "[nltk_data]   Package averaged_perceptron_tagger is already up-to-\n",
            "[nltk_data]       date!\n",
            "[('The', 'DT'), ('M.Sc', 'NNP'), ('IT', 'NNP'), ('programme', 'NN'), ('introduced', 'VBD'), ('year', 'NN'), ('2016', 'CD'), ('.', '.')]\n"
          ],
          "name": "stdout"
        }
      ]
    },
    {
      "cell_type": "code",
      "metadata": {
        "colab": {
          "base_uri": "https://localhost:8080/"
        },
        "id": "mFjx-v6CIG7z",
        "outputId": "21192b7e-b4ab-47be-8854-4585b1ef750e"
      },
      "source": [
        "nltk.download('averaged_perceptron_tagger')\n",
        "token = nltk.word_tokenize(txt)\n",
        "tag = nltk.pos_tag(token)\n",
        "print(tag)"
      ],
      "execution_count": 8,
      "outputs": [
        {
          "output_type": "stream",
          "text": [
            "[nltk_data] Downloading package averaged_perceptron_tagger to\n",
            "[nltk_data]     /root/nltk_data...\n",
            "[nltk_data]   Package averaged_perceptron_tagger is already up-to-\n",
            "[nltk_data]       date!\n",
            "[('The', 'DT'), ('Department', 'NNP'), ('of', 'IN'), ('Information', 'NNP'), ('Technology', 'NNP'), ('at', 'IN'), ('Ramniranjan', 'NNP'), ('Jhunjhunwala', 'NNP'), ('College', 'NNP'), (',', ','), ('Ghatkopar', 'NNP'), (',', ','), ('Mumbai', 'NNP'), ('was', 'VBD'), ('established', 'VBN'), ('in', 'IN'), ('2007', 'CD'), ('.', '.'), ('The', 'DT'), ('Department', 'NNP'), ('offers', 'VBZ'), ('both', 'DT'), ('undergraduate', 'NN'), ('(', '('), ('B.Sc', 'NNP'), ('.', '.'), ('IT', 'NNP'), (')', ')'), ('and', 'CC'), ('postgraduate', 'NN'), ('(', '('), ('M.Sc', 'NNP'), ('.', '.'), ('IT', 'NNP'), (')', ')'), ('programmes', 'VBZ'), ('.', '.'), ('The', 'DT'), ('M.Sc', 'NNP'), ('IT', 'NNP'), ('programme', 'NN'), ('was', 'VBD'), ('introduced', 'VBN'), ('in', 'IN'), ('the', 'DT'), ('year', 'NN'), ('2016', 'CD'), ('.', '.')]\n"
          ],
          "name": "stdout"
        }
      ]
    },
    {
      "cell_type": "code",
      "metadata": {
        "id": "KDaT0lWuIHlH"
      },
      "source": [
        "sentences = \"The Department offers both undergraduate (B.Sc. IT) and postgraduate (M.Sc. IT) programmes.\""
      ],
      "execution_count": 9,
      "outputs": []
    },
    {
      "cell_type": "code",
      "metadata": {
        "id": "BWR7deFiJ2S3"
      },
      "source": [
        "def ie_preprocess(document):\n",
        " sentences = nltk.sent_tokenize(document) [1]\n",
        " sentences = [nltk.word_tokenize(sent) for sent in sentences] [2]\n",
        " sentences = [nltk.pos_tag(sent) for sent in sentences]"
      ],
      "execution_count": 10,
      "outputs": []
    },
    {
      "cell_type": "code",
      "metadata": {
        "colab": {
          "base_uri": "https://localhost:8080/"
        },
        "id": "mlzMEc1XJ5V4",
        "outputId": "57538b6e-63bd-4da0-9bfd-bf79803033fc"
      },
      "source": [
        "nltk.download('averaged_perceptron_tagger')\n",
        "token = nltk.word_tokenize(sentences)\n",
        "tag = nltk.pos_tag(token)\n",
        "print(tag)"
      ],
      "execution_count": 11,
      "outputs": [
        {
          "output_type": "stream",
          "text": [
            "[nltk_data] Downloading package averaged_perceptron_tagger to\n",
            "[nltk_data]     /root/nltk_data...\n",
            "[nltk_data]   Package averaged_perceptron_tagger is already up-to-\n",
            "[nltk_data]       date!\n",
            "[('The', 'DT'), ('Department', 'NNP'), ('offers', 'VBZ'), ('both', 'DT'), ('undergraduate', 'NN'), ('(', '('), ('B.Sc', 'NNP'), ('.', '.'), ('IT', 'NNP'), (')', ')'), ('and', 'CC'), ('postgraduate', 'NN'), ('(', '('), ('M.Sc', 'NNP'), ('.', '.'), ('IT', 'NNP'), (')', ')'), ('programmes', 'VBZ'), ('.', '.')]\n"
          ],
          "name": "stdout"
        }
      ]
    },
    {
      "cell_type": "code",
      "metadata": {
        "id": "tbsw8u4GJ7ub"
      },
      "source": [
        "sentence = [('The', 'DT'), ('Department', 'NNP'), ('offers', 'VBZ'), ('both', 'DT'), ('undergraduate', 'NN'), ('(', '('), ('B.Sc', 'NNP'), ('.', '.'), ('IT', 'NNP'), (')', ')'), ('and', 'CC'), ('postgraduate', 'NN'), ('(', '('), ('M.Sc', 'NNP'), ('.', '.'), ('IT', 'NNP'), (')', ')'), ('programmes', 'VBZ'), ('.', '.')]"
      ],
      "execution_count": 12,
      "outputs": []
    },
    {
      "cell_type": "code",
      "metadata": {
        "id": "nPmbVK3gJ_3T"
      },
      "source": [
        "grammar = \"NP: {<DT>?<JJ>*<NN>}\""
      ],
      "execution_count": 14,
      "outputs": []
    },
    {
      "cell_type": "code",
      "metadata": {
        "id": "DnrNAqknKB7O"
      },
      "source": [
        "cp = nltk.RegexpParser(grammar)"
      ],
      "execution_count": 15,
      "outputs": []
    },
    {
      "cell_type": "code",
      "metadata": {
        "id": "JlBBRXcPKEW0"
      },
      "source": [
        "result = cp.parse(sentence)"
      ],
      "execution_count": 16,
      "outputs": []
    },
    {
      "cell_type": "code",
      "metadata": {
        "colab": {
          "base_uri": "https://localhost:8080/"
        },
        "id": "rWfwg-_mKGws",
        "outputId": "45c4ddb8-5174-4308-de50-1b4861d56dea"
      },
      "source": [
        "print(result)"
      ],
      "execution_count": 17,
      "outputs": [
        {
          "output_type": "stream",
          "text": [
            "(S\n",
            "  The/DT\n",
            "  Department/NNP\n",
            "  offers/VBZ\n",
            "  (NP both/DT undergraduate/NN)\n",
            "  (/(\n",
            "  B.Sc/NNP\n",
            "  ./.\n",
            "  IT/NNP\n",
            "  )/)\n",
            "  and/CC\n",
            "  (NP postgraduate/NN)\n",
            "  (/(\n",
            "  M.Sc/NNP\n",
            "  ./.\n",
            "  IT/NNP\n",
            "  )/)\n",
            "  programmes/VBZ\n",
            "  ./.)\n"
          ],
          "name": "stdout"
        }
      ]
    },
    {
      "cell_type": "code",
      "metadata": {
        "colab": {
          "base_uri": "https://localhost:8080/"
        },
        "id": "jKsmOTQ5LOd-",
        "outputId": "0f69bde1-b438-467a-ad88-0f6d7c7f2e28"
      },
      "source": [
        "nltk.download('averaged_perceptron_tagger')\n",
        "from nltk import pos_tag\n",
        "from nltk import RegexpParser\n",
        "text =\"The Department of Information Technology at Ramniranjan Jhunjhunwala College, Ghatkopar, Mumbai was established in 2007. The Department offers both undergraduate (B.Sc. IT) and postgraduate (M.Sc. IT) programmes. The M.Sc IT programme was introduced in the year 2016.\".split()\n",
        "print(\"After Split:\",text)\n",
        "tokens_tag = pos_tag(text)\n",
        "print(\"After Token:\",tokens_tag)\n",
        "patterns= \"\"\"mychunk:{<NN.?><VBD.?><JJ.?>*<CC>?}\"\"\"\n",
        "chunker = RegexpParser(patterns)\n",
        "print(\"After Regex:\",chunker)\n",
        "output = chunker.parse(tokens_tag)\n",
        "print(\"After Chunking\",output)"
      ],
      "execution_count": 18,
      "outputs": [
        {
          "output_type": "stream",
          "text": [
            "[nltk_data] Downloading package averaged_perceptron_tagger to\n",
            "[nltk_data]     /root/nltk_data...\n",
            "[nltk_data]   Package averaged_perceptron_tagger is already up-to-\n",
            "[nltk_data]       date!\n",
            "After Split: ['The', 'Department', 'of', 'Information', 'Technology', 'at', 'Ramniranjan', 'Jhunjhunwala', 'College,', 'Ghatkopar,', 'Mumbai', 'was', 'established', 'in', '2007.', 'The', 'Department', 'offers', 'both', 'undergraduate', '(B.Sc.', 'IT)', 'and', 'postgraduate', '(M.Sc.', 'IT)', 'programmes.', 'The', 'M.Sc', 'IT', 'programme', 'was', 'introduced', 'in', 'the', 'year', '2016.']\n",
            "After Token: [('The', 'DT'), ('Department', 'NNP'), ('of', 'IN'), ('Information', 'NNP'), ('Technology', 'NNP'), ('at', 'IN'), ('Ramniranjan', 'NNP'), ('Jhunjhunwala', 'NNP'), ('College,', 'NNP'), ('Ghatkopar,', 'NNP'), ('Mumbai', 'NNP'), ('was', 'VBD'), ('established', 'VBN'), ('in', 'IN'), ('2007.', 'CD'), ('The', 'DT'), ('Department', 'NNP'), ('offers', 'VBZ'), ('both', 'DT'), ('undergraduate', 'JJ'), ('(B.Sc.', 'NN'), ('IT)', 'NNP'), ('and', 'CC'), ('postgraduate', 'VB'), ('(M.Sc.', 'NNP'), ('IT)', 'NNP'), ('programmes.', 'VBD'), ('The', 'DT'), ('M.Sc', 'NNP'), ('IT', 'NNP'), ('programme', 'NN'), ('was', 'VBD'), ('introduced', 'VBN'), ('in', 'IN'), ('the', 'DT'), ('year', 'NN'), ('2016.', 'CD')]\n",
            "After Regex: chunk.RegexpParser with 1 stages:\n",
            "RegexpChunkParser with 1 rules:\n",
            "       <ChunkRule: '<NN.?><VBD.?><JJ.?>*<CC>?'>\n",
            "After Chunking (S\n",
            "  The/DT\n",
            "  Department/NNP\n",
            "  of/IN\n",
            "  Information/NNP\n",
            "  Technology/NNP\n",
            "  at/IN\n",
            "  Ramniranjan/NNP\n",
            "  Jhunjhunwala/NNP\n",
            "  College,/NNP\n",
            "  Ghatkopar,/NNP\n",
            "  (mychunk Mumbai/NNP was/VBD)\n",
            "  established/VBN\n",
            "  in/IN\n",
            "  2007./CD\n",
            "  The/DT\n",
            "  Department/NNP\n",
            "  offers/VBZ\n",
            "  both/DT\n",
            "  undergraduate/JJ\n",
            "  (B.Sc./NN\n",
            "  IT)/NNP\n",
            "  and/CC\n",
            "  postgraduate/VB\n",
            "  (M.Sc./NNP\n",
            "  (mychunk IT)/NNP programmes./VBD)\n",
            "  The/DT\n",
            "  M.Sc/NNP\n",
            "  IT/NNP\n",
            "  (mychunk programme/NN was/VBD)\n",
            "  introduced/VBN\n",
            "  in/IN\n",
            "  the/DT\n",
            "  year/NN\n",
            "  2016./CD)\n"
          ],
          "name": "stdout"
        }
      ]
    },
    {
      "cell_type": "code",
      "metadata": {
        "colab": {
          "base_uri": "https://localhost:8080/"
        },
        "id": "XbwHhb16LPSV",
        "outputId": "64dc0871-9b20-48f9-a25a-4ffbe1b18412"
      },
      "source": [
        "print(cp.parse(sentence))\n"
      ],
      "execution_count": 19,
      "outputs": [
        {
          "output_type": "stream",
          "text": [
            "(S\n",
            "  The/DT\n",
            "  Department/NNP\n",
            "  offers/VBZ\n",
            "  (NP both/DT undergraduate/NN)\n",
            "  (/(\n",
            "  B.Sc/NNP\n",
            "  ./.\n",
            "  IT/NNP\n",
            "  )/)\n",
            "  and/CC\n",
            "  (NP postgraduate/NN)\n",
            "  (/(\n",
            "  M.Sc/NNP\n",
            "  ./.\n",
            "  IT/NNP\n",
            "  )/)\n",
            "  programmes/VBZ\n",
            "  ./.)\n"
          ],
          "name": "stdout"
        }
      ]
    },
    {
      "cell_type": "code",
      "metadata": {
        "colab": {
          "base_uri": "https://localhost:8080/"
        },
        "id": "ICIYuBuPLSBi",
        "outputId": "3446f761-61d5-4b82-8788-854ea3b02822"
      },
      "source": [
        "nouns = [(\"both\", \"NN\"),(\"undergraduate\", \"NN\"),(\"postgraduate\", \"NN\")]\n",
        "grammar = \"NP: {<NN><NN>} # Chunk two consecutive nouns\"\n",
        "cp = nltk.RegexpParser(grammar)\n",
        "print(cp.parse(nouns))"
      ],
      "execution_count": 21,
      "outputs": [
        {
          "output_type": "stream",
          "text": [
            "(S (NP both/NN undergraduate/NN) postgraduate/NN)\n"
          ],
          "name": "stdout"
        }
      ]
    },
    {
      "cell_type": "code",
      "metadata": {
        "colab": {
          "base_uri": "https://localhost:8080/"
        },
        "id": "EoZh3rvtUN1T",
        "outputId": "ebe8578c-50b0-4f7f-8cdc-b71ccd3a2a93"
      },
      "source": [
        "import nltk\n",
        "from nltk.corpus import stopwords\n",
        "from nltk.tokenize import word_tokenize, sent_tokenize\n",
        "nltk.download('stopwords')\n",
        "stop_words = set(stopwords.words('english'))\n",
        "nltk.download('averaged_perceptron_tagger')\n",
        "text = \"The Department of Information Technology at Ramniranjan Jhunjhunwala College, Ghatkopar, Mumbai was established in 2007. The Department offers both undergraduate (B.Sc. IT) and postgraduate (M.Sc. IT) programmes. The M.Sc IT programme was introduced in the year 2016.\"\n",
        "tokenized = sent_tokenize(text)\n",
        "for i in tokenized:\n",
        " wordsList = nltk.word_tokenize(i)\n",
        " wordsList = [w for w in wordsList if not w in stop_words] \n",
        " tagged = nltk.pos_tag(wordsList) \n",
        "print(tagged)"
      ],
      "execution_count": 45,
      "outputs": [
        {
          "output_type": "stream",
          "text": [
            "[nltk_data] Downloading package stopwords to /root/nltk_data...\n",
            "[nltk_data]   Package stopwords is already up-to-date!\n",
            "[nltk_data] Downloading package averaged_perceptron_tagger to\n",
            "[nltk_data]     /root/nltk_data...\n",
            "[nltk_data]   Package averaged_perceptron_tagger is already up-to-\n",
            "[nltk_data]       date!\n",
            "[('The', 'DT'), ('M.Sc', 'NNP'), ('IT', 'NNP'), ('programme', 'NN'), ('introduced', 'VBD'), ('year', 'NN'), ('2016', 'CD'), ('.', '.')]\n"
          ],
          "name": "stdout"
        }
      ]
    },
    {
      "cell_type": "code",
      "metadata": {
        "colab": {
          "base_uri": "https://localhost:8080/"
        },
        "id": "ZwBxexAuUOh_",
        "outputId": "9278424b-5c3d-452b-97da-e3f370527ff8"
      },
      "source": [
        "documents = [\"The Department of Information Technology at Ramniranjan Jhunjhunwala College, Ghatkopar, Mumbai was established in 2007. The Department offers both undergraduate (B.Sc. IT) and postgraduate (M.Sc. IT) programmes. The M.Sc IT programme was introduced in the year 2016.\"]\n",
        "lower_case_documents = []\n",
        "for i in documents:\n",
        "    lower_case_documents.append(i.lower())\n",
        "print(lower_case_documents)"
      ],
      "execution_count": 46,
      "outputs": [
        {
          "output_type": "stream",
          "text": [
            "['the department of information technology at ramniranjan jhunjhunwala college, ghatkopar, mumbai was established in 2007. the department offers both undergraduate (b.sc. it) and postgraduate (m.sc. it) programmes. the m.sc it programme was introduced in the year 2016.']\n"
          ],
          "name": "stdout"
        }
      ]
    },
    {
      "cell_type": "code",
      "metadata": {
        "colab": {
          "base_uri": "https://localhost:8080/"
        },
        "id": "Quz0Me_MURDs",
        "outputId": "36e8fb68-5feb-4644-9355-599ad490de64"
      },
      "source": [
        "sans_punctuation_documents = []\n",
        "import string\n",
        "\n",
        "for i in lower_case_documents:\n",
        "    sans_punctuation_documents.append(''.join(c for c in i if c not in string.punctuation))\n",
        "    \n",
        "print(sans_punctuation_documents)"
      ],
      "execution_count": 47,
      "outputs": [
        {
          "output_type": "stream",
          "text": [
            "['the department of information technology at ramniranjan jhunjhunwala college ghatkopar mumbai was established in 2007 the department offers both undergraduate bsc it and postgraduate msc it programmes the msc it programme was introduced in the year 2016']\n"
          ],
          "name": "stdout"
        }
      ]
    },
    {
      "cell_type": "code",
      "metadata": {
        "colab": {
          "base_uri": "https://localhost:8080/"
        },
        "id": "iSxNPAZ_UTKf",
        "outputId": "5ab03c37-3cb1-47ad-8475-68009faa9b09"
      },
      "source": [
        "preprocessed_documents = []\n",
        "for i in sans_punctuation_documents:\n",
        "    preprocessed_documents.append(i.split(' '))\n",
        "print(preprocessed_documents)"
      ],
      "execution_count": 48,
      "outputs": [
        {
          "output_type": "stream",
          "text": [
            "[['the', 'department', 'of', 'information', 'technology', 'at', 'ramniranjan', 'jhunjhunwala', 'college', 'ghatkopar', 'mumbai', 'was', 'established', 'in', '2007', 'the', 'department', 'offers', 'both', 'undergraduate', 'bsc', 'it', 'and', 'postgraduate', 'msc', 'it', 'programmes', 'the', 'msc', 'it', 'programme', 'was', 'introduced', 'in', 'the', 'year', '2016']]\n"
          ],
          "name": "stdout"
        }
      ]
    },
    {
      "cell_type": "code",
      "metadata": {
        "colab": {
          "base_uri": "https://localhost:8080/"
        },
        "id": "dLf1gVnVUVPQ",
        "outputId": "3a2b44c5-0948-4f1a-c691-cc65cbd90c93"
      },
      "source": [
        "frequency_list = []\n",
        "import pprint\n",
        "from collections import Counter\n",
        "\n",
        "for i in preprocessed_documents:\n",
        "    frequency_list.append(Counter(i))\n",
        "    \n",
        "pprint.pprint(frequency_list)"
      ],
      "execution_count": 49,
      "outputs": [
        {
          "output_type": "stream",
          "text": [
            "[Counter({'the': 4,\n",
            "          'it': 3,\n",
            "          'department': 2,\n",
            "          'was': 2,\n",
            "          'in': 2,\n",
            "          'msc': 2,\n",
            "          'of': 1,\n",
            "          'information': 1,\n",
            "          'technology': 1,\n",
            "          'at': 1,\n",
            "          'ramniranjan': 1,\n",
            "          'jhunjhunwala': 1,\n",
            "          'college': 1,\n",
            "          'ghatkopar': 1,\n",
            "          'mumbai': 1,\n",
            "          'established': 1,\n",
            "          '2007': 1,\n",
            "          'offers': 1,\n",
            "          'both': 1,\n",
            "          'undergraduate': 1,\n",
            "          'bsc': 1,\n",
            "          'and': 1,\n",
            "          'postgraduate': 1,\n",
            "          'programmes': 1,\n",
            "          'programme': 1,\n",
            "          'introduced': 1,\n",
            "          'year': 1,\n",
            "          '2016': 1})]\n"
          ],
          "name": "stdout"
        }
      ]
    },
    {
      "cell_type": "code",
      "metadata": {
        "colab": {
          "base_uri": "https://localhost:8080/"
        },
        "id": "LaEmk7NPUhCP",
        "outputId": "5e5f625a-26bf-490f-a67e-84222d6023b0"
      },
      "source": [
        "import nltk\n",
        "from nltk.stem.porter import *\n",
        "\n",
        "porterStemmer = PorterStemmer()\n",
        "\n",
        "text = \"The Department of Information Technology at Ramniranjan Jhunjhunwala College, Ghatkopar, Mumbai was established in 2007. The Department offers both undergraduate (B.Sc. IT) and postgraduate (M.Sc. IT) programmes. The M.Sc IT programme was introduced in the year 2016.\"\n",
        "wordList = nltk.word_tokenize(text)\n",
        "\n",
        "stemWords = [porterStemmer.stem(word) for word in wordList]\n",
        "\n",
        "print(' '.join(stemWords))"
      ],
      "execution_count": 50,
      "outputs": [
        {
          "output_type": "stream",
          "text": [
            "the depart of inform technolog at ramniranjan jhunjhunwala colleg , ghatkopar , mumbai wa establish in 2007 . the depart offer both undergradu ( b.sc . IT ) and postgradu ( m.sc . IT ) programm . the m.sc IT programm wa introduc in the year 2016 .\n"
          ],
          "name": "stdout"
        }
      ]
    }
  ]
}