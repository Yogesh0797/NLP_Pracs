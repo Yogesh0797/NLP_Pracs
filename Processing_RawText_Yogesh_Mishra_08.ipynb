{
  "nbformat": 4,
  "nbformat_minor": 0,
  "metadata": {
    "colab": {
      "name": "Processing RawText_Yogesh_Mishra_08.ipynb",
      "provenance": [],
      "collapsed_sections": [],
      "authorship_tag": "ABX9TyMyqMshdjUpOEvRlHxnck1m",
      "include_colab_link": true
    },
    "kernelspec": {
      "name": "python3",
      "display_name": "Python 3"
    },
    "language_info": {
      "name": "python"
    }
  },
  "cells": [
    {
      "cell_type": "markdown",
      "metadata": {
        "id": "view-in-github",
        "colab_type": "text"
      },
      "source": [
        "<a href=\"https://colab.research.google.com/github/Yogesh0797/NLP_Pracs/blob/main/Processing_RawText_Yogesh_Mishra_08.ipynb\" target=\"_parent\"><img src=\"https://colab.research.google.com/assets/colab-badge.svg\" alt=\"Open In Colab\"/></a>"
      ]
    },
    {
      "cell_type": "markdown",
      "metadata": {
        "id": "X2sv7YNoyIYl"
      },
      "source": [
        "Practical 2 - Processing Raw Text\n",
        "\n",
        "\n",
        "1.   Accessing text from Web.\n",
        "2.   Accessing local text file.\n",
        "3.   Accessing text from PDF, Word and other Binary Format\n",
        "4.   NLP Pipeline\n",
        "\n",
        "\n"
      ]
    },
    {
      "cell_type": "code",
      "metadata": {
        "id": "saX1-BuTQQYa"
      },
      "source": [
        "from urllib import request"
      ],
      "execution_count": null,
      "outputs": []
    },
    {
      "cell_type": "code",
      "metadata": {
        "id": "0Hn5g8juQThT"
      },
      "source": [
        "url = \"http://www.gutenberg.org/files/2554/2554-0.txt\""
      ],
      "execution_count": null,
      "outputs": []
    },
    {
      "cell_type": "code",
      "metadata": {
        "id": "Zn6R9QHeQWYS"
      },
      "source": [
        "from __future__ import division"
      ],
      "execution_count": null,
      "outputs": []
    },
    {
      "cell_type": "code",
      "metadata": {
        "id": "lrHcgfpgQYyk"
      },
      "source": [
        "import nltk, re, pprint"
      ],
      "execution_count": null,
      "outputs": []
    },
    {
      "cell_type": "code",
      "metadata": {
        "id": "xUDdx3ySQb1I"
      },
      "source": [
        "from nltk import word_tokenize"
      ],
      "execution_count": null,
      "outputs": []
    },
    {
      "cell_type": "code",
      "metadata": {
        "id": "A7El75SFQfrP"
      },
      "source": [
        "response = request.urlopen(url)"
      ],
      "execution_count": null,
      "outputs": []
    },
    {
      "cell_type": "code",
      "metadata": {
        "id": "OMv2-wcwQlFo"
      },
      "source": [
        "raw = response.read().decode('utf8')"
      ],
      "execution_count": null,
      "outputs": []
    },
    {
      "cell_type": "code",
      "metadata": {
        "id": "qKps_2IhQnPA"
      },
      "source": [
        "type(raw)"
      ],
      "execution_count": null,
      "outputs": []
    },
    {
      "cell_type": "code",
      "metadata": {
        "id": "TgexEka1Qpah"
      },
      "source": [
        "len(raw)"
      ],
      "execution_count": null,
      "outputs": []
    },
    {
      "cell_type": "code",
      "metadata": {
        "id": "HLElv9SfQrnl"
      },
      "source": [
        "raw[:75]"
      ],
      "execution_count": null,
      "outputs": []
    },
    {
      "cell_type": "code",
      "metadata": {
        "id": "1QiHnAX0Qt-a"
      },
      "source": [
        "import nltk\n",
        "nltk.download('punkt')\n",
        "from nltk import word_tokenize"
      ],
      "execution_count": null,
      "outputs": []
    },
    {
      "cell_type": "code",
      "metadata": {
        "id": "IEMZFCdQQwAT"
      },
      "source": [
        "tokens = word_tokenize(raw)\n",
        "type(tokens)"
      ],
      "execution_count": null,
      "outputs": []
    },
    {
      "cell_type": "code",
      "metadata": {
        "id": "ss_K4NcwQzN2"
      },
      "source": [
        "len(tokens)"
      ],
      "execution_count": null,
      "outputs": []
    },
    {
      "cell_type": "code",
      "metadata": {
        "id": "VhVaHUw_Q1R3"
      },
      "source": [
        "tokens[:10]"
      ],
      "execution_count": null,
      "outputs": []
    },
    {
      "cell_type": "code",
      "metadata": {
        "id": "begFODLNQ5C3"
      },
      "source": [
        "text = nltk.Text(tokens)"
      ],
      "execution_count": null,
      "outputs": []
    },
    {
      "cell_type": "code",
      "metadata": {
        "id": "6tsbfZHfQ5lx"
      },
      "source": [
        "type(text)"
      ],
      "execution_count": null,
      "outputs": []
    },
    {
      "cell_type": "code",
      "metadata": {
        "id": "j1mSDubEQ8Yn"
      },
      "source": [
        "text = nltk.Text(tokens)\n",
        "text"
      ],
      "execution_count": null,
      "outputs": []
    },
    {
      "cell_type": "code",
      "metadata": {
        "id": "drJx-6XaQ-zx"
      },
      "source": [
        "text[1024:1062]"
      ],
      "execution_count": null,
      "outputs": []
    },
    {
      "cell_type": "code",
      "metadata": {
        "id": "XVGi02gLRBD0"
      },
      "source": [
        "nltk.download('stopwords')\n",
        "text.collocations()"
      ],
      "execution_count": null,
      "outputs": []
    },
    {
      "cell_type": "code",
      "metadata": {
        "id": "MvLDjranRDfr"
      },
      "source": [
        "raw.find(\"PART I\")"
      ],
      "execution_count": null,
      "outputs": []
    },
    {
      "cell_type": "code",
      "metadata": {
        "id": "y0Qpr4t0RGOL"
      },
      "source": [
        "raw.rfind(\"End of Project Gutenberg's Crime\")"
      ],
      "execution_count": null,
      "outputs": []
    },
    {
      "cell_type": "code",
      "metadata": {
        "id": "DKwA9ZXuRJho"
      },
      "source": [
        "raw = raw[5338:1157743] [1]\n",
        "raw.find(\"PART I\")"
      ],
      "execution_count": null,
      "outputs": []
    },
    {
      "cell_type": "markdown",
      "metadata": {
        "id": "4SBXWjRqRL3E"
      },
      "source": [
        "Accessing local text file."
      ]
    },
    {
      "cell_type": "code",
      "metadata": {
        "id": "4sVrz5P3ROJP"
      },
      "source": [
        "import nltk\n",
        "nltk.download('punkt')\n",
        "from nltk import word_tokenize"
      ],
      "execution_count": null,
      "outputs": []
    },
    {
      "cell_type": "code",
      "metadata": {
        "id": "FO3gviffRQ5e"
      },
      "source": [
        "f = open('NLP.txt')"
      ],
      "execution_count": null,
      "outputs": []
    },
    {
      "cell_type": "code",
      "metadata": {
        "id": "xC2Rv92hRTUw"
      },
      "source": [
        "raw = f.read()"
      ],
      "execution_count": null,
      "outputs": []
    },
    {
      "cell_type": "code",
      "metadata": {
        "id": "k1j7hLRIRWzm"
      },
      "source": [
        "f = open('NLP.txt')"
      ],
      "execution_count": null,
      "outputs": []
    },
    {
      "cell_type": "code",
      "metadata": {
        "id": "EskxY37-RZJo"
      },
      "source": [
        "import os"
      ],
      "execution_count": null,
      "outputs": []
    },
    {
      "cell_type": "code",
      "metadata": {
        "id": "7YhoUpiLRcPT"
      },
      "source": [
        "os.listdir('.')"
      ],
      "execution_count": null,
      "outputs": []
    },
    {
      "cell_type": "code",
      "metadata": {
        "id": "yacshvkvReX3"
      },
      "source": [
        "f.read()"
      ],
      "execution_count": null,
      "outputs": []
    },
    {
      "cell_type": "code",
      "metadata": {
        "id": "yTrQjTxJRgYI"
      },
      "source": [
        "f = open('NLP.txt', 'rU')\n",
        "for line in f:\n",
        "  print(line.strip())"
      ],
      "execution_count": null,
      "outputs": []
    },
    {
      "cell_type": "code",
      "metadata": {
        "id": "UaRj7uL3RjGn"
      },
      "source": [
        "s = input(\"Enter some text: \")\n"
      ],
      "execution_count": null,
      "outputs": []
    },
    {
      "cell_type": "code",
      "metadata": {
        "id": "mNIumrtJRnpR"
      },
      "source": [
        "print(\"You typed\", len(word_tokenize(s)), \"words.\")"
      ],
      "execution_count": null,
      "outputs": []
    },
    {
      "cell_type": "code",
      "metadata": {
        "id": "2gqNy0AfRp7u"
      },
      "source": [
        "raw = open('NLP.txt').read()"
      ],
      "execution_count": null,
      "outputs": []
    },
    {
      "cell_type": "markdown",
      "metadata": {
        "id": "0eElc-kQRr_m"
      },
      "source": [
        "The NLP Pipeline"
      ]
    },
    {
      "cell_type": "code",
      "metadata": {
        "id": "nCh2y-_9RtzC"
      },
      "source": [
        "type(raw)"
      ],
      "execution_count": null,
      "outputs": []
    },
    {
      "cell_type": "code",
      "metadata": {
        "id": "TV-AEvCkRwFY"
      },
      "source": [
        "tokens = word_tokenize(raw)\n",
        "type(tokens)"
      ],
      "execution_count": null,
      "outputs": []
    },
    {
      "cell_type": "code",
      "metadata": {
        "id": "AmgNo6m6RzeJ"
      },
      "source": [
        "words = [w.lower() for w in tokens]\n",
        "type(words)"
      ],
      "execution_count": null,
      "outputs": []
    },
    {
      "cell_type": "code",
      "metadata": {
        "id": "uvA-udiLR1hE"
      },
      "source": [
        "vocab = sorted(set(words))\n",
        "type(vocab)"
      ],
      "execution_count": null,
      "outputs": []
    }
  ]
}