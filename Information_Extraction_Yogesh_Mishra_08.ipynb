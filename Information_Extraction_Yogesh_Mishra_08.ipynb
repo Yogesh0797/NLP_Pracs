{
  "nbformat": 4,
  "nbformat_minor": 0,
  "metadata": {
    "colab": {
      "name": "Information_Extraction_Yogesh_Mishra_08.ipynb",
      "provenance": [],
      "collapsed_sections": [],
      "authorship_tag": "ABX9TyOdApBnUvlWmu3kDGUl7CKi",
      "include_colab_link": true
    },
    "kernelspec": {
      "name": "python3",
      "display_name": "Python 3"
    },
    "language_info": {
      "name": "python"
    }
  },
  "cells": [
    {
      "cell_type": "markdown",
      "metadata": {
        "id": "view-in-github",
        "colab_type": "text"
      },
      "source": [
        "<a href=\"https://colab.research.google.com/github/Yogesh0797/NLP_Pracs/blob/main/Information_Extraction_Yogesh_Mishra_08.ipynb\" target=\"_parent\"><img src=\"https://colab.research.google.com/assets/colab-badge.svg\" alt=\"Open In Colab\"/></a>"
      ]
    },
    {
      "cell_type": "markdown",
      "metadata": {
        "id": "2r90Cdx-Pq9g"
      },
      "source": [
        "Information Extraction:\n",
        "\n",
        "Part-of-Speech \n",
        "Tagging\n",
        "\n",
        "Chunking\n",
        "\n",
        "Chinking\n",
        "\n",
        "Named Entity Recognition\n",
        "\n",
        "Relation Extraction"
      ]
    },
    {
      "cell_type": "code",
      "metadata": {
        "colab": {
          "base_uri": "https://localhost:8080/"
        },
        "id": "DuhTkorONP--",
        "outputId": "52159772-34f5-46c1-8dd2-55ff2d48ed77"
      },
      "source": [
        "# import the necessary libraries\n",
        "import nltk\n",
        "nltk.download('punkt')\n",
        "nltk.download('averaged_perceptron_tagger')\n",
        "nltk.download('maxent_ne_chunker')\n",
        "nltk.download('words')\n",
        "from nltk import CFG\n",
        "import matplotlib.pyplot as plt\n",
        "import string\n",
        "import re\n",
        "from nltk.tokenize import word_tokenize \n",
        "from nltk import pos_tag\n",
        "from tkinter import *\n",
        "\n",
        "  \n",
        "from nltk.tokenize import word_tokenize\n",
        "from nltk import pos_tag, ne_chunk\n",
        "  \n",
        "def named_entity_recognition(text):\n",
        "    # tokenize the text\n",
        "    word_tokens = word_tokenize(text)\n",
        "  \n",
        "    # part of speech tagging of words\n",
        "    word_pos = pos_tag(word_tokens)\n",
        "  \n",
        "    # tree of word entities\n",
        "    print(ne_chunk(word_pos))\n",
        "  \n",
        "text = 'Bill works for GeeksforGeeks so he went to Delhi for a meetup.'\n",
        "named_entity_recognition(text)"
      ],
      "execution_count": null,
      "outputs": [
        {
          "output_type": "stream",
          "text": [
            "[nltk_data] Downloading package punkt to /root/nltk_data...\n",
            "[nltk_data]   Unzipping tokenizers/punkt.zip.\n",
            "[nltk_data] Downloading package averaged_perceptron_tagger to\n",
            "[nltk_data]     /root/nltk_data...\n",
            "[nltk_data]   Unzipping taggers/averaged_perceptron_tagger.zip.\n",
            "[nltk_data] Downloading package maxent_ne_chunker to\n",
            "[nltk_data]     /root/nltk_data...\n",
            "[nltk_data]   Unzipping chunkers/maxent_ne_chunker.zip.\n",
            "[nltk_data] Downloading package words to /root/nltk_data...\n",
            "[nltk_data]   Unzipping corpora/words.zip.\n",
            "(S\n",
            "  (PERSON Bill/NNP)\n",
            "  works/VBZ\n",
            "  for/IN\n",
            "  (ORGANIZATION GeeksforGeeks/NNP)\n",
            "  so/RB\n",
            "  he/PRP\n",
            "  went/VBD\n",
            "  to/TO\n",
            "  (GPE Delhi/NNP)\n",
            "  for/IN\n",
            "  a/DT\n",
            "  meetup/NN\n",
            "  ./.)\n"
          ],
          "name": "stdout"
        }
      ]
    },
    {
      "cell_type": "code",
      "metadata": {
        "colab": {
          "base_uri": "https://localhost:8080/"
        },
        "id": "UdVCkNRwNolj",
        "outputId": "af5d11a8-eea8-42ee-b16c-86c010effef9"
      },
      "source": [
        "from nltk.tokenize import word_tokenize\n",
        "from nltk import pos_tag\n",
        "  \n",
        "# convert text into word_tokens with their tags\n",
        "def pos_tagging(text):\n",
        "    word_tokens = word_tokenize(text)\n",
        "    return pos_tag(word_tokens)\n",
        "  \n",
        "pos_tagging('You just gave me a scare')"
      ],
      "execution_count": null,
      "outputs": [
        {
          "output_type": "execute_result",
          "data": {
            "text/plain": [
              "[('You', 'PRP'),\n",
              " ('just', 'RB'),\n",
              " ('gave', 'VBD'),\n",
              " ('me', 'PRP'),\n",
              " ('a', 'DT'),\n",
              " ('scare', 'NN')]"
            ]
          },
          "metadata": {
            "tags": []
          },
          "execution_count": 2
        }
      ]
    },
    {
      "cell_type": "code",
      "metadata": {
        "colab": {
          "base_uri": "https://localhost:8080/"
        },
        "id": "ZtjPd4YtNtn-",
        "outputId": "60c32c00-711c-4dea-d7de-462e029e949d"
      },
      "source": [
        "# download the tagset \n",
        "nltk.download('tagsets')\n",
        "  "
      ],
      "execution_count": null,
      "outputs": [
        {
          "output_type": "stream",
          "text": [
            "[nltk_data] Downloading package tagsets to /root/nltk_data...\n",
            "[nltk_data]   Unzipping help/tagsets.zip.\n"
          ],
          "name": "stdout"
        },
        {
          "output_type": "execute_result",
          "data": {
            "text/plain": [
              "True"
            ]
          },
          "metadata": {
            "tags": []
          },
          "execution_count": 3
        }
      ]
    },
    {
      "cell_type": "code",
      "metadata": {
        "colab": {
          "base_uri": "https://localhost:8080/"
        },
        "id": "_Sl0ElprOB8I",
        "outputId": "95f5c712-3178-4a9c-dccd-2f953998d723"
      },
      "source": [
        "from nltk.tree import *\n",
        "from collections import defaultdict\n",
        "from nltk.tokenize import word_tokenize \n",
        "from nltk import pos_tag\n",
        "  \n",
        "# define chunking function with text and regular\n",
        "# expression representing grammar as parameter\n",
        "def chunking(text, grammar):\n",
        "    word_tokens = word_tokenize(text)\n",
        "  \n",
        "    # label words with part of speech\n",
        "    word_pos = pos_tag(word_tokens)\n",
        "  \n",
        "    # create a chunk parser using grammar\n",
        "    chunkParser = nltk.RegexpParser(grammar)\n",
        "  \n",
        "    # test it on the list of word tokens with tagged pos\n",
        "    tree = chunkParser.parse(word_pos)\n",
        "\n",
        "    for subtree in tree.subtrees():\n",
        "        print(subtree)\n",
        "    \n",
        "      \n",
        "sentence = 'the little yellow bird is flying in the sky'\n",
        "grammar = \"NP: {<DT>?<JJ>*<NN>}\"\n",
        "chunking(sentence, grammar)"
      ],
      "execution_count": null,
      "outputs": [
        {
          "output_type": "stream",
          "text": [
            "(S\n",
            "  (NP the/DT little/JJ yellow/JJ bird/NN)\n",
            "  is/VBZ\n",
            "  flying/VBG\n",
            "  in/IN\n",
            "  (NP the/DT sky/NN))\n",
            "(NP the/DT little/JJ yellow/JJ bird/NN)\n",
            "(NP the/DT sky/NN)\n"
          ],
          "name": "stdout"
        }
      ]
    }
  ]
}