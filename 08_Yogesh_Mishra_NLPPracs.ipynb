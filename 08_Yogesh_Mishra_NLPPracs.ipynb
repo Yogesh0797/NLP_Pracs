{
  "nbformat": 4,
  "nbformat_minor": 0,
  "metadata": {
    "colab": {
      "name": "08_Yogesh_Mishra_NLPPracs.ipynb",
      "provenance": [],
      "collapsed_sections": [],
      "include_colab_link": true
    },
    "kernelspec": {
      "name": "python3",
      "display_name": "Python 3"
    },
    "language_info": {
      "name": "python"
    }
  },
  "cells": [
    {
      "cell_type": "markdown",
      "metadata": {
        "id": "view-in-github",
        "colab_type": "text"
      },
      "source": [
        "<a href=\"https://colab.research.google.com/github/Yogesh0797/NLP_Pracs/blob/main/08_Yogesh_Mishra_NLPPracs.ipynb\" target=\"_parent\"><img src=\"https://colab.research.google.com/assets/colab-badge.svg\" alt=\"Open In Colab\"/></a>"
      ]
    },
    {
      "cell_type": "markdown",
      "metadata": {
        "id": "gtWKH5lBRF9r"
      },
      "source": [
        "Statistics is the discipline that concerns the collection, organization, analysis, interpretation, and presentation of data. In applying statistics to a scientific, industrial, or social problem, it is conventional to begin with a statistical population or a statistical model to be studied. Populations can be diverse groups of people or objects such as \"all people living in a country\" or \"every atom composing a crystal\". Statistics deals with every aspect of data, including the planning of data collection in terms of the design of surveys and experiments.\n",
        "\n",
        "Using Given Text, Solve the following questions (Each of 4 Marks):\n",
        "\n",
        "1 .Tokenize the given text into sentences and words.\n",
        "\n",
        "2 .Pos tag each word to display its grammatical information.\n",
        "\n",
        "3 .Apply chunking to extract the following sentence from the given text. In applying statistics to a scientific, industrial, or social problem, it is conventional to begin with a statistical population or a statistical model to be studied.\n",
        "\n",
        "4 .After chunking (Q. 4), POS tag the sentence and search for the information about programs Courses, certifications and degrees using POS taggers and Regular Expression.\n",
        "\n",
        "5 .Display the parser tree for the Noun Phrase for the chunk derived in Q. 4\n",
        "\n",
        "6 .Get the Bog of words for the given text and display the word with its frequency.\n",
        "\n",
        "7 .Remove the stop words from the BOW that is retrieved in Q. 6.\n",
        "\n",
        "8 .Stem the Words of Q. 7.\n",
        "\n",
        "9 .Find and display Lemma for the words that are retrieved in Q. 7 using lemmatization.\n",
        "\n",
        "Find the synonym and antonym of words ‘Population’ and ‘Model’."
      ]
    },
    {
      "cell_type": "code",
      "metadata": {
        "colab": {
          "base_uri": "https://localhost:8080/"
        },
        "id": "ErIbwZh4RSor",
        "outputId": "6d906eed-d42a-4bab-8622-06afd7f0db2b"
      },
      "source": [
        "import nltk\n",
        "from nltk.tokenize import sent_tokenize, word_tokenize\n",
        "from urllib import request\n",
        "from __future__ import division\n",
        "import nltk, re, pprint\n",
        "from nltk import word_tokenize\n",
        "nltk.download('punkt')"
      ],
      "execution_count": null,
      "outputs": [
        {
          "output_type": "stream",
          "text": [
            "[nltk_data] Downloading package punkt to /root/nltk_data...\n",
            "[nltk_data]   Unzipping tokenizers/punkt.zip.\n"
          ],
          "name": "stdout"
        },
        {
          "output_type": "execute_result",
          "data": {
            "text/plain": [
              "True"
            ]
          },
          "metadata": {
            "tags": []
          },
          "execution_count": 1
        }
      ]
    },
    {
      "cell_type": "code",
      "metadata": {
        "id": "3YRwX6uvRTv1"
      },
      "source": [
        "text = \"Statistics is the discipline that concerns the collection, organization, analysis, interpretation, and presentation of data. In applying statistics to a scientific, industrial, or social problem, it is conventional to begin with a statistical population or a statistical model to be studied. Populations can be diverse groups of people or objects such as 'all people living in a country' or 'every atom composing a crystal'. Statistics deals with every aspect of data, including the planning of data collection in terms of the design of surveys and experiments.\"\n"
      ],
      "execution_count": null,
      "outputs": []
    },
    {
      "cell_type": "code",
      "metadata": {
        "colab": {
          "base_uri": "https://localhost:8080/"
        },
        "id": "GfsZ9j75RV6g",
        "outputId": "0d6cc9ff-3a74-4c40-f830-b6d6494138a9"
      },
      "source": [
        "print(sent_tokenize(text))"
      ],
      "execution_count": null,
      "outputs": [
        {
          "output_type": "stream",
          "text": [
            "['Statistics is the discipline that concerns the collection, organization, analysis, interpretation, and presentation of data.', 'In applying statistics to a scientific, industrial, or social problem, it is conventional to begin with a statistical population or a statistical model to be studied.', \"Populations can be diverse groups of people or objects such as 'all people living in a country' or 'every atom composing a crystal'.\", 'Statistics deals with every aspect of data, including the planning of data collection in terms of the design of surveys and experiments.']\n"
          ],
          "name": "stdout"
        }
      ]
    },
    {
      "cell_type": "code",
      "metadata": {
        "colab": {
          "base_uri": "https://localhost:8080/"
        },
        "id": "VsGvtRL0RZA0",
        "outputId": "8b680322-fc9c-4f5f-eb0d-69291c744071"
      },
      "source": [
        "print(word_tokenize(text))"
      ],
      "execution_count": null,
      "outputs": [
        {
          "output_type": "stream",
          "text": [
            "['Statistics', 'is', 'the', 'discipline', 'that', 'concerns', 'the', 'collection', ',', 'organization', ',', 'analysis', ',', 'interpretation', ',', 'and', 'presentation', 'of', 'data', '.', 'In', 'applying', 'statistics', 'to', 'a', 'scientific', ',', 'industrial', ',', 'or', 'social', 'problem', ',', 'it', 'is', 'conventional', 'to', 'begin', 'with', 'a', 'statistical', 'population', 'or', 'a', 'statistical', 'model', 'to', 'be', 'studied', '.', 'Populations', 'can', 'be', 'diverse', 'groups', 'of', 'people', 'or', 'objects', 'such', 'as', \"'all\", 'people', 'living', 'in', 'a', 'country', \"'\", 'or', \"'every\", 'atom', 'composing', 'a', 'crystal', \"'\", '.', 'Statistics', 'deals', 'with', 'every', 'aspect', 'of', 'data', ',', 'including', 'the', 'planning', 'of', 'data', 'collection', 'in', 'terms', 'of', 'the', 'design', 'of', 'surveys', 'and', 'experiments', '.']\n"
          ],
          "name": "stdout"
        }
      ]
    },
    {
      "cell_type": "code",
      "metadata": {
        "colab": {
          "base_uri": "https://localhost:8080/"
        },
        "id": "nq4jdm7CRcfd",
        "outputId": "08193014-9565-4f10-8c3d-ca32e59bafc4"
      },
      "source": [
        "from nltk.tokenize import sent_tokenize\n",
        "text = \"Statistics is the discipline that concerns the collection, organization, analysis, interpretation, and presentation of data. In applying statistics to a scientific, industrial, or social problem, it is conventional to begin with a statistical population or a statistical model to be studied. Populations can be diverse groups of people or objects such as 'all people living in a country' or 'every atom composing a crystal'. Statistics deals with every aspect of data, including the planning of data collection in terms of the design of surveys and experiments.\"\n",
        "sent_tokenize(text)"
      ],
      "execution_count": null,
      "outputs": [
        {
          "output_type": "execute_result",
          "data": {
            "text/plain": [
              "['Statistics is the discipline that concerns the collection, organization, analysis, interpretation, and presentation of data.',\n",
              " 'In applying statistics to a scientific, industrial, or social problem, it is conventional to begin with a statistical population or a statistical model to be studied.',\n",
              " \"Populations can be diverse groups of people or objects such as 'all people living in a country' or 'every atom composing a crystal'.\",\n",
              " 'Statistics deals with every aspect of data, including the planning of data collection in terms of the design of surveys and experiments.']"
            ]
          },
          "metadata": {
            "tags": []
          },
          "execution_count": 5
        }
      ]
    },
    {
      "cell_type": "code",
      "metadata": {
        "colab": {
          "base_uri": "https://localhost:8080/"
        },
        "id": "Sk7GZuATRf5E",
        "outputId": "a8f602ce-9b9c-4d5f-a0ab-270c8c86afe7"
      },
      "source": [
        "import nltk\n",
        "nltk.download('averaged_perceptron_tagger')\n",
        "from nltk import pos_tag\n",
        "from nltk import RegexpParser\n",
        "text = \"Statistics is the discipline that concerns the collection, organization, analysis, interpretation, and presentation of data. In applying statistics to a scientific, industrial, or social problem, it is conventional to begin with a statistical population or a statistical model to be studied. Populations can be diverse groups of people or objects such as 'all people living in a country' or 'every atom composing a crystal'. Statistics deals with every aspect of data, including the planning of data collection in terms of the design of surveys and experiments.\"\n",
        "print(\"After Split:\",text)\n",
        "tokens_tag = pos_tag(text)\n",
        "print(\"After Token:\",tokens_tag)\n",
        "patterns= \"\"\"mychunk:{<NN.?>*<VBD.?>*<JJ.?>*<CC>?}\"\"\"\n",
        "chunker = RegexpParser(patterns)\n",
        "print(\"After Regex:\",chunker)\n",
        "output = chunker.parse(tokens_tag)\n",
        "print(\"After Chunking\",output)"
      ],
      "execution_count": null,
      "outputs": [
        {
          "output_type": "stream",
          "text": [
            "[nltk_data] Downloading package averaged_perceptron_tagger to\n",
            "[nltk_data]     /root/nltk_data...\n",
            "[nltk_data]   Unzipping taggers/averaged_perceptron_tagger.zip.\n",
            "After Split: Statistics is the discipline that concerns the collection, organization, analysis, interpretation, and presentation of data. In applying statistics to a scientific, industrial, or social problem, it is conventional to begin with a statistical population or a statistical model to be studied. Populations can be diverse groups of people or objects such as 'all people living in a country' or 'every atom composing a crystal'. Statistics deals with every aspect of data, including the planning of data collection in terms of the design of surveys and experiments.\n",
            "After Token: [('S', 'NNP'), ('t', 'VBZ'), ('a', 'DT'), ('t', 'NN'), ('i', 'NN'), ('s', 'VBP'), ('t', 'NN'), ('i', 'NN'), ('c', 'VBP'), ('s', 'JJ'), (' ', 'NN'), ('i', 'NN'), ('s', 'VBP'), (' ', 'JJ'), ('t', 'NN'), ('h', 'NN'), ('e', 'NN'), (' ', 'NNP'), ('d', 'NN'), ('i', 'NN'), ('s', 'VBP'), ('c', 'NN'), ('i', 'NN'), ('p', 'VBP'), ('l', 'NN'), ('i', 'NN'), ('n', 'VBP'), ('e', 'NN'), (' ', 'NNP'), ('t', 'NN'), ('h', 'VBD'), ('a', 'DT'), ('t', 'NN'), (' ', 'NNP'), ('c', 'VBZ'), ('o', 'JJ'), ('n', 'JJ'), ('c', 'NN'), ('e', 'NN'), ('r', 'NN'), ('n', 'JJ'), ('s', 'NN'), (' ', 'NNP'), ('t', 'NN'), ('h', 'NN'), ('e', 'NN'), (' ', 'NNP'), ('c', 'VBZ'), ('o', 'JJ'), ('l', 'NN'), ('l', 'NN'), ('e', 'NN'), ('c', 'VBP'), ('t', 'NN'), ('i', 'NN'), ('o', 'VBP'), ('n', 'NN'), (',', ','), (' ', 'NNP'), ('o', 'MD'), ('r', 'VB'), ('g', 'VB'), ('a', 'DT'), ('n', 'NN'), ('i', 'NN'), ('z', 'VBP'), ('a', 'DT'), ('t', 'NN'), ('i', 'NN'), ('o', 'VBP'), ('n', 'NN'), (',', ','), (' ', 'VB'), ('a', 'DT'), ('n', 'NN'), ('a', 'DT'), ('l', 'NN'), ('y', 'NN'), ('s', 'NN'), ('i', 'NN'), ('s', 'VBP'), (',', ','), (' ', 'VBP'), ('i', 'JJ'), ('n', 'VBP'), ('t', 'JJ'), ('e', 'NN'), ('r', 'NN'), ('p', 'NN'), ('r', 'NN'), ('e', 'NN'), ('t', 'VBD'), ('a', 'DT'), ('t', 'NN'), ('i', 'NN'), ('o', 'VBP'), ('n', 'NN'), (',', ','), (' ', 'VB'), ('a', 'DT'), ('n', 'JJ'), ('d', 'NN'), (' ', 'NNP'), ('p', 'NN'), ('r', 'NN'), ('e', 'NN'), ('s', 'NN'), ('e', 'NN'), ('n', 'JJ'), ('t', 'VBZ'), ('a', 'DT'), ('t', 'NN'), ('i', 'NN'), ('o', 'VBP'), ('n', 'JJ'), (' ', 'NNP'), ('o', 'NN'), ('f', 'NN'), (' ', 'NNP'), ('d', 'VBZ'), ('a', 'DT'), ('t', 'NN'), ('a', 'DT'), ('.', '.'), (' ', 'NN'), ('I', 'PRP'), ('n', 'VBP'), (' ', 'PDT'), ('a', 'DT'), ('p', 'NN'), ('p', 'NN'), ('l', 'NN'), ('y', 'NN'), ('i', 'NN'), ('n', 'VBP'), ('g', 'NN'), (' ', 'NNP'), ('s', 'VBZ'), ('t', 'VB'), ('a', 'DT'), ('t', 'NN'), ('i', 'NN'), ('s', 'VBP'), ('t', 'NN'), ('i', 'NN'), ('c', 'VBP'), ('s', 'NN'), (' ', 'NNP'), ('t', 'NN'), ('o', 'NN'), (' ', 'VBZ'), ('a', 'DT'), (' ', 'JJ'), ('s', 'NN'), ('c', 'NN'), ('i', 'NN'), ('e', 'VBP'), ('n', 'IN'), ('t', 'NN'), ('i', 'NN'), ('f', 'VBP'), ('i', 'NN'), ('c', 'NN'), (',', ','), (' ', 'VBP'), ('i', 'JJ'), ('n', 'VBP'), ('d', 'JJ'), ('u', 'JJ'), ('s', 'NN'), ('t', 'NN'), ('r', 'NN'), ('i', 'VBZ'), ('a', 'DT'), ('l', 'NN'), (',', ','), (' ', 'NNP'), ('o', 'MD'), ('r', 'VB'), (' ', 'NNP'), ('s', 'PRP'), ('o', 'VBP'), ('c', 'JJ'), ('i', 'NN'), ('a', 'DT'), ('l', 'NN'), (' ', 'NN'), ('p', 'NN'), ('r', 'NN'), ('o', 'NN'), ('b', 'NN'), ('l', 'NN'), ('e', 'NN'), ('m', 'NN'), (',', ','), (' ', 'VBP'), ('i', 'JJ'), ('t', 'VBP'), (' ', 'NN'), ('i', 'NN'), ('s', 'VBP'), (' ', 'NNP'), ('c', 'VBP'), ('o', 'JJ'), ('n', 'JJ'), ('v', 'NN'), ('e', 'NN'), ('n', 'IN'), ('t', 'NN'), ('i', 'NN'), ('o', 'VBP'), ('n', 'IN'), ('a', 'DT'), ('l', 'NN'), (' ', 'NNP'), ('t', 'NN'), ('o', 'NN'), (' ', 'NN'), ('b', 'NN'), ('e', 'NN'), ('g', 'NN'), ('i', 'NN'), ('n', 'VBP'), (' ', 'IN'), ('w', 'NN'), ('i', 'NN'), ('t', 'VBP'), ('h', 'NN'), (' ', 'VBP'), ('a', 'DT'), (' ', 'JJ'), ('s', 'NN'), ('t', 'VBD'), ('a', 'DT'), ('t', 'NN'), ('i', 'NN'), ('s', 'VBP'), ('t', 'NN'), ('i', 'NN'), ('c', 'VBP'), ('a', 'DT'), ('l', 'NN'), (' ', 'NNP'), ('p', 'NN'), ('o', 'NN'), ('p', 'NN'), ('u', 'JJ'), ('l', 'NN'), ('a', 'DT'), ('t', 'NN'), ('i', 'NN'), ('o', 'VBP'), ('n', 'JJ'), (' ', 'NNP'), ('o', 'NN'), ('r', 'NN'), (' ', 'VBZ'), ('a', 'DT'), (' ', 'JJ'), ('s', 'NN'), ('t', 'VBD'), ('a', 'DT'), ('t', 'NN'), ('i', 'NN'), ('s', 'VBP'), ('t', 'NN'), ('i', 'NN'), ('c', 'VBP'), ('a', 'DT'), ('l', 'NN'), (' ', 'NNP'), ('m', 'NN'), ('o', 'NN'), ('d', 'NN'), ('e', 'NN'), ('l', 'NN'), (' ', 'NNP'), ('t', 'NN'), ('o', 'NN'), (' ', 'NN'), ('b', 'NN'), ('e', 'NN'), (' ', 'NNP'), ('s', 'NN'), ('t', 'NN'), ('u', 'JJ'), ('d', 'NN'), ('i', 'NN'), ('e', 'VBP'), ('d', 'NN'), ('.', '.'), (' ', 'JJ'), ('P', 'NNP'), ('o', 'NN'), ('p', 'NN'), ('u', 'JJ'), ('l', 'NN'), ('a', 'DT'), ('t', 'NN'), ('i', 'NN'), ('o', 'VBP'), ('n', 'JJ'), ('s', 'NN'), (' ', 'NNP'), ('c', 'VBZ'), ('a', 'DT'), ('n', 'JJ'), (' ', 'NN'), ('b', 'NN'), ('e', 'NN'), (' ', 'NNP'), ('d', 'NN'), ('i', 'NN'), ('v', 'VBP'), ('e', 'NN'), ('r', 'NN'), ('s', 'NN'), ('e', 'NN'), (' ', 'NNP'), ('g', 'NN'), ('r', 'NN'), ('o', 'NN'), ('u', 'JJ'), ('p', 'NN'), ('s', 'NN'), (' ', 'NNP'), ('o', 'VBZ'), ('f', 'JJ'), (' ', 'NNP'), ('p', 'NN'), ('e', 'NN'), ('o', 'IN'), ('p', 'NN'), ('l', 'NN'), ('e', 'NN'), (' ', 'NNP'), ('o', 'VBZ'), ('r', 'NN'), (' ', 'NNP'), ('o', 'NN'), ('b', 'NN'), ('j', 'NN'), ('e', 'NN'), ('c', 'VBP'), ('t', 'NN'), ('s', 'NN'), (' ', 'NNP'), ('s', 'NN'), ('u', 'JJ'), ('c', 'NN'), ('h', 'NN'), (' ', 'VBZ'), ('a', 'DT'), ('s', 'JJ'), (' ', 'NN'), (\"'\", \"''\"), ('a', 'DT'), ('l', 'NN'), ('l', 'NN'), (' ', 'NNP'), ('p', 'NN'), ('e', 'NN'), ('o', 'IN'), ('p', 'NN'), ('l', 'NN'), ('e', 'NN'), (' ', 'NNP'), ('l', 'NN'), ('i', 'NN'), ('v', 'VBP'), ('i', 'NN'), ('n', 'VBP'), ('g', 'NN'), (' ', 'NN'), ('i', 'NN'), ('n', 'VBP'), (' ', 'PDT'), ('a', 'DT'), (' ', 'JJ'), ('c', 'NN'), ('o', 'NN'), ('u', 'JJ'), ('n', 'NN'), ('t', 'NN'), ('r', 'NN'), ('y', 'NN'), (\"'\", \"''\"), (' ', 'JJ'), ('o', 'IN'), ('r', 'NN'), (' ', 'NNP'), (\"'\", 'POS'), ('e', 'NN'), ('v', 'NN'), ('e', 'NN'), ('r', 'NN'), ('y', 'NN'), (' ', 'VBZ'), ('a', 'DT'), ('t', 'NN'), ('o', 'NN'), ('m', 'NN'), (' ', 'NNP'), ('c', 'VBZ'), ('o', 'JJ'), ('m', 'NN'), ('p', 'NN'), ('o', 'IN'), ('s', 'NN'), ('i', 'NN'), ('n', 'VBP'), ('g', 'NN'), (' ', 'VBP'), ('a', 'DT'), (' ', 'NN'), ('c', 'NN'), ('r', 'NN'), ('y', 'NN'), ('s', 'NN'), ('t', 'VBD'), ('a', 'DT'), ('l', 'NN'), (\"'\", 'POS'), ('.', '.'), (' ', 'CC'), ('S', 'NNP'), ('t', 'VBP'), ('a', 'DT'), ('t', 'NN'), ('i', 'NN'), ('s', 'VBP'), ('t', 'NN'), ('i', 'NN'), ('c', 'VBP'), ('s', 'NN'), (' ', 'NNP'), ('d', 'NN'), ('e', 'VBZ'), ('a', 'DT'), ('l', 'NN'), ('s', 'NN'), (' ', 'NNP'), ('w', 'NN'), ('i', 'NN'), ('t', 'VBP'), ('h', 'NN'), (' ', 'NNP'), ('e', 'NN'), ('v', 'NN'), ('e', 'NN'), ('r', 'NN'), ('y', 'NN'), (' ', 'VBZ'), ('a', 'DT'), ('s', 'JJ'), ('p', 'NN'), ('e', 'NN'), ('c', 'VBP'), ('t', 'NN'), (' ', 'NNP'), ('o', 'VBZ'), ('f', 'JJ'), (' ', 'NNP'), ('d', 'VBZ'), ('a', 'DT'), ('t', 'NN'), ('a', 'DT'), (',', ','), (' ', 'NN'), ('i', 'NN'), ('n', 'VBP'), ('c', 'NN'), ('l', 'NN'), ('u', 'JJ'), ('d', 'NN'), ('i', 'NN'), ('n', 'VBP'), ('g', 'NN'), (' ', 'NNP'), ('t', 'NN'), ('h', 'NN'), ('e', 'NN'), (' ', 'NNP'), ('p', 'NN'), ('l', 'NN'), ('a', 'DT'), ('n', 'JJ'), ('n', 'NN'), ('i', 'NN'), ('n', 'VBP'), ('g', 'NN'), (' ', 'NNP'), ('o', 'VBZ'), ('f', 'JJ'), (' ', 'NNP'), ('d', 'VBZ'), ('a', 'DT'), ('t', 'NN'), ('a', 'DT'), (' ', 'JJ'), ('c', 'NN'), ('o', 'NN'), ('l', 'NN'), ('l', 'NN'), ('e', 'NN'), ('c', 'VBP'), ('t', 'NN'), ('i', 'NN'), ('o', 'VBP'), ('n', 'IN'), (' ', 'NN'), ('i', 'NN'), ('n', 'VBP'), (' ', 'JJ'), ('t', 'NN'), ('e', 'NN'), ('r', 'NN'), ('m', 'NN'), ('s', 'NN'), (' ', 'NNP'), ('o', 'VBZ'), ('f', 'JJ'), (' ', 'NNP'), ('t', 'NN'), ('h', 'NN'), ('e', 'NN'), (' ', 'NNP'), ('d', 'NN'), ('e', 'NN'), ('s', 'NN'), ('i', 'NN'), ('g', 'VBP'), ('n', 'JJ'), (' ', 'NNP'), ('o', 'NN'), ('f', 'NN'), (' ', 'NNP'), ('s', 'NN'), ('u', 'JJ'), ('r', 'NN'), ('v', 'NN'), ('e', 'NN'), ('y', 'NN'), ('s', 'NN'), (' ', 'VBZ'), ('a', 'DT'), ('n', 'JJ'), ('d', 'NN'), (' ', 'NNP'), ('e', 'NN'), ('x', 'NNP'), ('p', 'NN'), ('e', 'NN'), ('r', 'NN'), ('i', 'NN'), ('m', 'VBP'), ('e', 'NN'), ('n', 'JJ'), ('t', 'NN'), ('s', 'NN'), ('.', '.')]\n",
            "After Regex: chunk.RegexpParser with 1 stages:\n",
            "RegexpChunkParser with 1 rules:\n",
            "       <ChunkRule: '<NN.?>*<VBD.?>*<JJ.?>*<CC>?'>\n",
            "After Chunking (S\n",
            "  (mychunk S/NNP)\n",
            "  t/VBZ\n",
            "  a/DT\n",
            "  (mychunk t/NN i/NN)\n",
            "  s/VBP\n",
            "  (mychunk t/NN i/NN)\n",
            "  c/VBP\n",
            "  (mychunk s/JJ)\n",
            "  (mychunk  /NN i/NN)\n",
            "  s/VBP\n",
            "  (mychunk  /JJ)\n",
            "  (mychunk t/NN h/NN e/NN  /NNP d/NN i/NN)\n",
            "  s/VBP\n",
            "  (mychunk c/NN i/NN)\n",
            "  p/VBP\n",
            "  (mychunk l/NN i/NN)\n",
            "  n/VBP\n",
            "  (mychunk e/NN  /NNP t/NN h/VBD)\n",
            "  a/DT\n",
            "  (mychunk t/NN  /NNP)\n",
            "  c/VBZ\n",
            "  (mychunk o/JJ n/JJ)\n",
            "  (mychunk c/NN e/NN r/NN n/JJ)\n",
            "  (mychunk s/NN  /NNP t/NN h/NN e/NN  /NNP)\n",
            "  c/VBZ\n",
            "  (mychunk o/JJ)\n",
            "  (mychunk l/NN l/NN e/NN)\n",
            "  c/VBP\n",
            "  (mychunk t/NN i/NN)\n",
            "  o/VBP\n",
            "  (mychunk n/NN)\n",
            "  ,/,\n",
            "  (mychunk  /NNP)\n",
            "  o/MD\n",
            "  r/VB\n",
            "  g/VB\n",
            "  a/DT\n",
            "  (mychunk n/NN i/NN)\n",
            "  z/VBP\n",
            "  a/DT\n",
            "  (mychunk t/NN i/NN)\n",
            "  o/VBP\n",
            "  (mychunk n/NN)\n",
            "  ,/,\n",
            "   /VB\n",
            "  a/DT\n",
            "  (mychunk n/NN)\n",
            "  a/DT\n",
            "  (mychunk l/NN y/NN s/NN i/NN)\n",
            "  s/VBP\n",
            "  ,/,\n",
            "   /VBP\n",
            "  (mychunk i/JJ)\n",
            "  n/VBP\n",
            "  (mychunk t/JJ)\n",
            "  (mychunk e/NN r/NN p/NN r/NN e/NN t/VBD)\n",
            "  a/DT\n",
            "  (mychunk t/NN i/NN)\n",
            "  o/VBP\n",
            "  (mychunk n/NN)\n",
            "  ,/,\n",
            "   /VB\n",
            "  a/DT\n",
            "  (mychunk n/JJ)\n",
            "  (mychunk d/NN  /NNP p/NN r/NN e/NN s/NN e/NN n/JJ)\n",
            "  t/VBZ\n",
            "  a/DT\n",
            "  (mychunk t/NN i/NN)\n",
            "  o/VBP\n",
            "  (mychunk n/JJ)\n",
            "  (mychunk  /NNP o/NN f/NN  /NNP)\n",
            "  d/VBZ\n",
            "  a/DT\n",
            "  (mychunk t/NN)\n",
            "  a/DT\n",
            "  ./.\n",
            "  (mychunk  /NN)\n",
            "  I/PRP\n",
            "  n/VBP\n",
            "   /PDT\n",
            "  a/DT\n",
            "  (mychunk p/NN p/NN l/NN y/NN i/NN)\n",
            "  n/VBP\n",
            "  (mychunk g/NN  /NNP)\n",
            "  s/VBZ\n",
            "  t/VB\n",
            "  a/DT\n",
            "  (mychunk t/NN i/NN)\n",
            "  s/VBP\n",
            "  (mychunk t/NN i/NN)\n",
            "  c/VBP\n",
            "  (mychunk s/NN  /NNP t/NN o/NN)\n",
            "   /VBZ\n",
            "  a/DT\n",
            "  (mychunk  /JJ)\n",
            "  (mychunk s/NN c/NN i/NN)\n",
            "  e/VBP\n",
            "  n/IN\n",
            "  (mychunk t/NN i/NN)\n",
            "  f/VBP\n",
            "  (mychunk i/NN c/NN)\n",
            "  ,/,\n",
            "   /VBP\n",
            "  (mychunk i/JJ)\n",
            "  n/VBP\n",
            "  (mychunk d/JJ u/JJ)\n",
            "  (mychunk s/NN t/NN r/NN)\n",
            "  i/VBZ\n",
            "  a/DT\n",
            "  (mychunk l/NN)\n",
            "  ,/,\n",
            "  (mychunk  /NNP)\n",
            "  o/MD\n",
            "  r/VB\n",
            "  (mychunk  /NNP)\n",
            "  s/PRP\n",
            "  o/VBP\n",
            "  (mychunk c/JJ)\n",
            "  (mychunk i/NN)\n",
            "  a/DT\n",
            "  (mychunk l/NN  /NN p/NN r/NN o/NN b/NN l/NN e/NN m/NN)\n",
            "  ,/,\n",
            "   /VBP\n",
            "  (mychunk i/JJ)\n",
            "  t/VBP\n",
            "  (mychunk  /NN i/NN)\n",
            "  s/VBP\n",
            "  (mychunk  /NNP)\n",
            "  c/VBP\n",
            "  (mychunk o/JJ n/JJ)\n",
            "  (mychunk v/NN e/NN)\n",
            "  n/IN\n",
            "  (mychunk t/NN i/NN)\n",
            "  o/VBP\n",
            "  n/IN\n",
            "  a/DT\n",
            "  (mychunk l/NN  /NNP t/NN o/NN  /NN b/NN e/NN g/NN i/NN)\n",
            "  n/VBP\n",
            "   /IN\n",
            "  (mychunk w/NN i/NN)\n",
            "  t/VBP\n",
            "  (mychunk h/NN)\n",
            "   /VBP\n",
            "  a/DT\n",
            "  (mychunk  /JJ)\n",
            "  (mychunk s/NN t/VBD)\n",
            "  a/DT\n",
            "  (mychunk t/NN i/NN)\n",
            "  s/VBP\n",
            "  (mychunk t/NN i/NN)\n",
            "  c/VBP\n",
            "  a/DT\n",
            "  (mychunk l/NN  /NNP p/NN o/NN p/NN u/JJ)\n",
            "  (mychunk l/NN)\n",
            "  a/DT\n",
            "  (mychunk t/NN i/NN)\n",
            "  o/VBP\n",
            "  (mychunk n/JJ)\n",
            "  (mychunk  /NNP o/NN r/NN)\n",
            "   /VBZ\n",
            "  a/DT\n",
            "  (mychunk  /JJ)\n",
            "  (mychunk s/NN t/VBD)\n",
            "  a/DT\n",
            "  (mychunk t/NN i/NN)\n",
            "  s/VBP\n",
            "  (mychunk t/NN i/NN)\n",
            "  c/VBP\n",
            "  a/DT\n",
            "  (mychunk\n",
            "    l/NN\n",
            "     /NNP\n",
            "    m/NN\n",
            "    o/NN\n",
            "    d/NN\n",
            "    e/NN\n",
            "    l/NN\n",
            "     /NNP\n",
            "    t/NN\n",
            "    o/NN\n",
            "     /NN\n",
            "    b/NN\n",
            "    e/NN\n",
            "     /NNP\n",
            "    s/NN\n",
            "    t/NN\n",
            "    u/JJ)\n",
            "  (mychunk d/NN i/NN)\n",
            "  e/VBP\n",
            "  (mychunk d/NN)\n",
            "  ./.\n",
            "  (mychunk  /JJ)\n",
            "  (mychunk P/NNP o/NN p/NN u/JJ)\n",
            "  (mychunk l/NN)\n",
            "  a/DT\n",
            "  (mychunk t/NN i/NN)\n",
            "  o/VBP\n",
            "  (mychunk n/JJ)\n",
            "  (mychunk s/NN  /NNP)\n",
            "  c/VBZ\n",
            "  a/DT\n",
            "  (mychunk n/JJ)\n",
            "  (mychunk  /NN b/NN e/NN  /NNP d/NN i/NN)\n",
            "  v/VBP\n",
            "  (mychunk e/NN r/NN s/NN e/NN  /NNP g/NN r/NN o/NN u/JJ)\n",
            "  (mychunk p/NN s/NN  /NNP)\n",
            "  o/VBZ\n",
            "  (mychunk f/JJ)\n",
            "  (mychunk  /NNP p/NN e/NN)\n",
            "  o/IN\n",
            "  (mychunk p/NN l/NN e/NN  /NNP)\n",
            "  o/VBZ\n",
            "  (mychunk r/NN  /NNP o/NN b/NN j/NN e/NN)\n",
            "  c/VBP\n",
            "  (mychunk t/NN s/NN  /NNP s/NN u/JJ)\n",
            "  (mychunk c/NN h/NN)\n",
            "   /VBZ\n",
            "  a/DT\n",
            "  (mychunk s/JJ)\n",
            "  (mychunk  /NN)\n",
            "  '/''\n",
            "  a/DT\n",
            "  (mychunk l/NN l/NN  /NNP p/NN e/NN)\n",
            "  o/IN\n",
            "  (mychunk p/NN l/NN e/NN  /NNP l/NN i/NN)\n",
            "  v/VBP\n",
            "  (mychunk i/NN)\n",
            "  n/VBP\n",
            "  (mychunk g/NN  /NN i/NN)\n",
            "  n/VBP\n",
            "   /PDT\n",
            "  a/DT\n",
            "  (mychunk  /JJ)\n",
            "  (mychunk c/NN o/NN u/JJ)\n",
            "  (mychunk n/NN t/NN r/NN y/NN)\n",
            "  '/''\n",
            "  (mychunk  /JJ)\n",
            "  o/IN\n",
            "  (mychunk r/NN  /NNP)\n",
            "  '/POS\n",
            "  (mychunk e/NN v/NN e/NN r/NN y/NN)\n",
            "   /VBZ\n",
            "  a/DT\n",
            "  (mychunk t/NN o/NN m/NN  /NNP)\n",
            "  c/VBZ\n",
            "  (mychunk o/JJ)\n",
            "  (mychunk m/NN p/NN)\n",
            "  o/IN\n",
            "  (mychunk s/NN i/NN)\n",
            "  n/VBP\n",
            "  (mychunk g/NN)\n",
            "   /VBP\n",
            "  a/DT\n",
            "  (mychunk  /NN c/NN r/NN y/NN s/NN t/VBD)\n",
            "  a/DT\n",
            "  (mychunk l/NN)\n",
            "  '/POS\n",
            "  ./.\n",
            "  (mychunk  /CC)\n",
            "  (mychunk S/NNP)\n",
            "  t/VBP\n",
            "  a/DT\n",
            "  (mychunk t/NN i/NN)\n",
            "  s/VBP\n",
            "  (mychunk t/NN i/NN)\n",
            "  c/VBP\n",
            "  (mychunk s/NN  /NNP d/NN)\n",
            "  e/VBZ\n",
            "  a/DT\n",
            "  (mychunk l/NN s/NN  /NNP w/NN i/NN)\n",
            "  t/VBP\n",
            "  (mychunk h/NN  /NNP e/NN v/NN e/NN r/NN y/NN)\n",
            "   /VBZ\n",
            "  a/DT\n",
            "  (mychunk s/JJ)\n",
            "  (mychunk p/NN e/NN)\n",
            "  c/VBP\n",
            "  (mychunk t/NN  /NNP)\n",
            "  o/VBZ\n",
            "  (mychunk f/JJ)\n",
            "  (mychunk  /NNP)\n",
            "  d/VBZ\n",
            "  a/DT\n",
            "  (mychunk t/NN)\n",
            "  a/DT\n",
            "  ,/,\n",
            "  (mychunk  /NN i/NN)\n",
            "  n/VBP\n",
            "  (mychunk c/NN l/NN u/JJ)\n",
            "  (mychunk d/NN i/NN)\n",
            "  n/VBP\n",
            "  (mychunk g/NN  /NNP t/NN h/NN e/NN  /NNP p/NN l/NN)\n",
            "  a/DT\n",
            "  (mychunk n/JJ)\n",
            "  (mychunk n/NN i/NN)\n",
            "  n/VBP\n",
            "  (mychunk g/NN  /NNP)\n",
            "  o/VBZ\n",
            "  (mychunk f/JJ)\n",
            "  (mychunk  /NNP)\n",
            "  d/VBZ\n",
            "  a/DT\n",
            "  (mychunk t/NN)\n",
            "  a/DT\n",
            "  (mychunk  /JJ)\n",
            "  (mychunk c/NN o/NN l/NN l/NN e/NN)\n",
            "  c/VBP\n",
            "  (mychunk t/NN i/NN)\n",
            "  o/VBP\n",
            "  n/IN\n",
            "  (mychunk  /NN i/NN)\n",
            "  n/VBP\n",
            "  (mychunk  /JJ)\n",
            "  (mychunk t/NN e/NN r/NN m/NN s/NN  /NNP)\n",
            "  o/VBZ\n",
            "  (mychunk f/JJ)\n",
            "  (mychunk  /NNP t/NN h/NN e/NN  /NNP d/NN e/NN s/NN i/NN)\n",
            "  g/VBP\n",
            "  (mychunk n/JJ)\n",
            "  (mychunk  /NNP o/NN f/NN  /NNP s/NN u/JJ)\n",
            "  (mychunk r/NN v/NN e/NN y/NN s/NN)\n",
            "   /VBZ\n",
            "  a/DT\n",
            "  (mychunk n/JJ)\n",
            "  (mychunk d/NN  /NNP e/NN x/NNP p/NN e/NN r/NN i/NN)\n",
            "  m/VBP\n",
            "  (mychunk e/NN n/JJ)\n",
            "  (mychunk t/NN s/NN)\n",
            "  ./.)\n"
          ],
          "name": "stdout"
        }
      ]
    },
    {
      "cell_type": "code",
      "metadata": {
        "colab": {
          "base_uri": "https://localhost:8080/"
        },
        "id": "xZr_mjFWRkCv",
        "outputId": "78b66cb1-122c-40f6-d417-8ab1ea38f667"
      },
      "source": [
        "import nltk\n",
        "from nltk.corpus import stopwords\n",
        "from nltk.tokenize import word_tokenize, sent_tokenize\n",
        "nltk.download('stopwords')\n",
        "stop_words = set(stopwords.words('english'))\n",
        "nltk.download('averaged_perceptron_tagger')\n",
        "text = \"In applying statistics to a scientific, industrial, or social problem, it is conventional to begin with a statistical population or a statistical model to be studied.\"\n",
        "tokenized = sent_tokenize(text)\n",
        "for i in tokenized:\n",
        " wordsList = nltk.word_tokenize(i)\n",
        " wordsList = [w for w in wordsList if not w in stop_words] \n",
        " tagged = nltk.pos_tag(wordsList) \n",
        "print(tagged)"
      ],
      "execution_count": null,
      "outputs": [
        {
          "output_type": "stream",
          "text": [
            "[nltk_data] Downloading package stopwords to /root/nltk_data...\n",
            "[nltk_data]   Unzipping corpora/stopwords.zip.\n",
            "[nltk_data] Downloading package averaged_perceptron_tagger to\n",
            "[nltk_data]     /root/nltk_data...\n",
            "[nltk_data]   Package averaged_perceptron_tagger is already up-to-\n",
            "[nltk_data]       date!\n",
            "[('In', 'IN'), ('applying', 'VBG'), ('statistics', 'NNS'), ('scientific', 'JJ'), (',', ','), ('industrial', 'JJ'), (',', ','), ('social', 'JJ'), ('problem', 'NN'), (',', ','), ('conventional', 'JJ'), ('begin', 'VB'), ('statistical', 'JJ'), ('population', 'NN'), ('statistical', 'JJ'), ('model', 'NN'), ('studied', 'VBN'), ('.', '.')]\n"
          ],
          "name": "stdout"
        }
      ]
    },
    {
      "cell_type": "code",
      "metadata": {
        "colab": {
          "base_uri": "https://localhost:8080/"
        },
        "id": "35qyR3MhRoOo",
        "outputId": "8fb7a19d-a83d-4091-869e-2f9e5792db91"
      },
      "source": [
        "from nltk.tokenize import sent_tokenize\n",
        "par = \"Statistics is the discipline that concerns the collection, organization, analysis, interpretation, and presentation of data. In applying statistics to a scientific, industrial, or social problem, it is conventional to begin with a statistical population or a statistical model to be studied. Populations can be diverse groups of people or objects such as 'all people living in a country' or 'every atom composing a crystal'. Statistics deals with every aspect of data, including the planning of data collection in terms of the design of surveys and experiments.\"\n",
        "sent_tokenize(par)"
      ],
      "execution_count": null,
      "outputs": [
        {
          "output_type": "execute_result",
          "data": {
            "text/plain": [
              "['Statistics is the discipline that concerns the collection, organization, analysis, interpretation, and presentation of data.',\n",
              " 'In applying statistics to a scientific, industrial, or social problem, it is conventional to begin with a statistical population or a statistical model to be studied.',\n",
              " \"Populations can be diverse groups of people or objects such as 'all people living in a country' or 'every atom composing a crystal'.\",\n",
              " 'Statistics deals with every aspect of data, including the planning of data collection in terms of the design of surveys and experiments.']"
            ]
          },
          "metadata": {
            "tags": []
          },
          "execution_count": 8
        }
      ]
    },
    {
      "cell_type": "code",
      "metadata": {
        "colab": {
          "base_uri": "https://localhost:8080/"
        },
        "id": "C_YVm0qcR5rE",
        "outputId": "d0408906-0e6c-4613-c87d-ca5d32d8fa67"
      },
      "source": [
        "import nltk\n",
        "nltk.download()\n",
        "import nltk\n",
        "from nltk.corpus import stopwords\n",
        "from nltk.tokenize import word_tokenize, sent_tokenize"
      ],
      "execution_count": null,
      "outputs": [
        {
          "output_type": "stream",
          "text": [
            "NLTK Downloader\n",
            "---------------------------------------------------------------------------\n",
            "    d) Download   l) List    u) Update   c) Config   h) Help   q) Quit\n",
            "---------------------------------------------------------------------------\n",
            "Downloader> q\n"
          ],
          "name": "stdout"
        }
      ]
    },
    {
      "cell_type": "code",
      "metadata": {
        "colab": {
          "base_uri": "https://localhost:8080/"
        },
        "id": "ws6dTaAkSHLl",
        "outputId": "e10c3a4f-30bc-4708-e47b-99e611fed032"
      },
      "source": [
        "import nltk\n",
        "nltk.download('stopwords')\n",
        "stop_words = set(stopwords.words('english'))"
      ],
      "execution_count": null,
      "outputs": [
        {
          "output_type": "stream",
          "text": [
            "[nltk_data] Downloading package stopwords to /root/nltk_data...\n",
            "[nltk_data]   Package stopwords is already up-to-date!\n"
          ],
          "name": "stdout"
        }
      ]
    },
    {
      "cell_type": "code",
      "metadata": {
        "id": "KxINDR6FSJZl"
      },
      "source": [
        "txt = \"Statistics is the discipline that concerns the collection, organization, analysis, interpretation, and presentation of data. In applying statistics to a scientific, industrial, or social problem, it is conventional to begin with a statistical population or a statistical model to be studied. Populations can be diverse groups of people or objects such as 'all people living in a country' or 'every atom composing a crystal'. Statistics deals with every aspect of data, including the planning of data collection in terms of the design of surveys and experiments.\""
      ],
      "execution_count": null,
      "outputs": []
    },
    {
      "cell_type": "code",
      "metadata": {
        "colab": {
          "base_uri": "https://localhost:8080/"
        },
        "id": "9R31kUtNSPZR",
        "outputId": "c3c7e0f8-6409-471d-9b25-223d9a4cb2e3"
      },
      "source": [
        "import nltk\n",
        "nltk.download('averaged_perceptron_tagger')\n",
        "tokenized = sent_tokenize(txt)\n",
        "for i in tokenized:\n",
        " wordsList = nltk.word_tokenize(i)\n",
        " wordsList = [w for w in wordsList if not w in stop_words] \n",
        " tagged = nltk.pos_tag(wordsList) \n",
        "print(tagged)"
      ],
      "execution_count": null,
      "outputs": [
        {
          "output_type": "stream",
          "text": [
            "[nltk_data] Downloading package averaged_perceptron_tagger to\n",
            "[nltk_data]     /root/nltk_data...\n",
            "[nltk_data]   Package averaged_perceptron_tagger is already up-to-\n",
            "[nltk_data]       date!\n",
            "[('Statistics', 'NNS'), ('deals', 'NNS'), ('every', 'DT'), ('aspect', 'NN'), ('data', 'NNS'), (',', ','), ('including', 'VBG'), ('planning', 'VBG'), ('data', 'NNS'), ('collection', 'NN'), ('terms', 'NNS'), ('design', 'VBP'), ('surveys', 'JJ'), ('experiments', 'NNS'), ('.', '.')]\n"
          ],
          "name": "stdout"
        }
      ]
    },
    {
      "cell_type": "code",
      "metadata": {
        "colab": {
          "base_uri": "https://localhost:8080/"
        },
        "id": "9i4fU8sRSSV8",
        "outputId": "7970c320-6b5e-45c9-e632-542f2e2939f0"
      },
      "source": [
        "nltk.download('averaged_perceptron_tagger')\n",
        "token = nltk.word_tokenize(txt)\n",
        "tag = nltk.pos_tag(token)\n",
        "print(tag)"
      ],
      "execution_count": null,
      "outputs": [
        {
          "output_type": "stream",
          "text": [
            "[nltk_data] Downloading package averaged_perceptron_tagger to\n",
            "[nltk_data]     /root/nltk_data...\n",
            "[nltk_data]   Package averaged_perceptron_tagger is already up-to-\n",
            "[nltk_data]       date!\n",
            "[('Statistics', 'NNS'), ('is', 'VBZ'), ('the', 'DT'), ('discipline', 'NN'), ('that', 'WDT'), ('concerns', 'VBZ'), ('the', 'DT'), ('collection', 'NN'), (',', ','), ('organization', 'NN'), (',', ','), ('analysis', 'NN'), (',', ','), ('interpretation', 'NN'), (',', ','), ('and', 'CC'), ('presentation', 'NN'), ('of', 'IN'), ('data', 'NNS'), ('.', '.'), ('In', 'IN'), ('applying', 'VBG'), ('statistics', 'NNS'), ('to', 'TO'), ('a', 'DT'), ('scientific', 'JJ'), (',', ','), ('industrial', 'JJ'), (',', ','), ('or', 'CC'), ('social', 'JJ'), ('problem', 'NN'), (',', ','), ('it', 'PRP'), ('is', 'VBZ'), ('conventional', 'JJ'), ('to', 'TO'), ('begin', 'VB'), ('with', 'IN'), ('a', 'DT'), ('statistical', 'JJ'), ('population', 'NN'), ('or', 'CC'), ('a', 'DT'), ('statistical', 'JJ'), ('model', 'NN'), ('to', 'TO'), ('be', 'VB'), ('studied', 'VBN'), ('.', '.'), ('Populations', 'NNS'), ('can', 'MD'), ('be', 'VB'), ('diverse', 'JJ'), ('groups', 'NNS'), ('of', 'IN'), ('people', 'NNS'), ('or', 'CC'), ('objects', 'NNS'), ('such', 'JJ'), ('as', 'IN'), (\"'all\", 'JJ'), ('people', 'NNS'), ('living', 'VBG'), ('in', 'IN'), ('a', 'DT'), ('country', 'NN'), (\"'\", \"''\"), ('or', 'CC'), (\"'every\", 'POS'), ('atom', 'NN'), ('composing', 'VBG'), ('a', 'DT'), ('crystal', 'NN'), (\"'\", 'POS'), ('.', '.'), ('Statistics', 'NNS'), ('deals', 'NNS'), ('with', 'IN'), ('every', 'DT'), ('aspect', 'NN'), ('of', 'IN'), ('data', 'NNS'), (',', ','), ('including', 'VBG'), ('the', 'DT'), ('planning', 'NN'), ('of', 'IN'), ('data', 'NNS'), ('collection', 'NN'), ('in', 'IN'), ('terms', 'NNS'), ('of', 'IN'), ('the', 'DT'), ('design', 'NN'), ('of', 'IN'), ('surveys', 'NNS'), ('and', 'CC'), ('experiments', 'NNS'), ('.', '.')]\n"
          ],
          "name": "stdout"
        }
      ]
    },
    {
      "cell_type": "code",
      "metadata": {
        "id": "grXJiHbfSVzb"
      },
      "source": [
        "sentences = \"In applying statistics to a scientific, industrial, or social problem, it is conventional to begin with a statistical population or a statistical model to be studied\""
      ],
      "execution_count": null,
      "outputs": []
    },
    {
      "cell_type": "code",
      "metadata": {
        "colab": {
          "base_uri": "https://localhost:8080/"
        },
        "id": "O47qIUGqSW-y",
        "outputId": "05c83368-e023-4b56-baa6-a1c588b96563"
      },
      "source": [
        "nltk.download('averaged_perceptron_tagger')\n",
        "token = nltk.word_tokenize(sentences)\n",
        "tag = nltk.pos_tag(token)\n",
        "print(tag)"
      ],
      "execution_count": null,
      "outputs": [
        {
          "output_type": "stream",
          "text": [
            "[nltk_data] Downloading package averaged_perceptron_tagger to\n",
            "[nltk_data]     /root/nltk_data...\n",
            "[nltk_data]   Package averaged_perceptron_tagger is already up-to-\n",
            "[nltk_data]       date!\n",
            "[('In', 'IN'), ('applying', 'VBG'), ('statistics', 'NNS'), ('to', 'TO'), ('a', 'DT'), ('scientific', 'JJ'), (',', ','), ('industrial', 'JJ'), (',', ','), ('or', 'CC'), ('social', 'JJ'), ('problem', 'NN'), (',', ','), ('it', 'PRP'), ('is', 'VBZ'), ('conventional', 'JJ'), ('to', 'TO'), ('begin', 'VB'), ('with', 'IN'), ('a', 'DT'), ('statistical', 'JJ'), ('population', 'NN'), ('or', 'CC'), ('a', 'DT'), ('statistical', 'JJ'), ('model', 'NN'), ('to', 'TO'), ('be', 'VB'), ('studied', 'VBN')]\n"
          ],
          "name": "stdout"
        }
      ]
    },
    {
      "cell_type": "code",
      "metadata": {
        "id": "kAsktSLOSakL"
      },
      "source": [
        "sentence = [('In', 'IN'), ('applying', 'VBG'), ('statistics', 'NNS'), ('to', 'TO'), ('a', 'DT'), ('scientific', 'JJ'), (',', ','), ('industrial', 'JJ'), (',', ','), ('or', 'CC'), ('social', 'JJ'), ('problem', 'NN'), (',', ','), ('it', 'PRP'), ('is', 'VBZ'), ('conventional', 'JJ'), ('to', 'TO'), ('begin', 'VB'), ('with', 'IN'), ('a', 'DT'), ('statistical', 'JJ'), ('population', 'NN'), ('or', 'CC'), ('a', 'DT'), ('statistical', 'JJ'), ('model', 'NN'), ('to', 'TO'), ('be', 'VB'), ('studied', 'VBN')]\n"
      ],
      "execution_count": null,
      "outputs": []
    },
    {
      "cell_type": "code",
      "metadata": {
        "id": "oIk-CloTSdDt"
      },
      "source": [
        "grammar = \"NP: {<DT>?<JJ>*<NN>}\""
      ],
      "execution_count": null,
      "outputs": []
    },
    {
      "cell_type": "code",
      "metadata": {
        "id": "wY7XrOEGSfSf"
      },
      "source": [
        "cp = nltk.RegexpParser(grammar)"
      ],
      "execution_count": null,
      "outputs": []
    },
    {
      "cell_type": "code",
      "metadata": {
        "colab": {
          "base_uri": "https://localhost:8080/"
        },
        "id": "mbjdlOGiShjh",
        "outputId": "0a99a51e-651d-44b4-93ae-7d10124ab624"
      },
      "source": [
        "result = cp.parse(sentence)\n",
        "print(result)"
      ],
      "execution_count": null,
      "outputs": [
        {
          "output_type": "stream",
          "text": [
            "(S\n",
            "  In/IN\n",
            "  applying/VBG\n",
            "  statistics/NNS\n",
            "  to/TO\n",
            "  a/DT\n",
            "  scientific/JJ\n",
            "  ,/,\n",
            "  industrial/JJ\n",
            "  ,/,\n",
            "  or/CC\n",
            "  (NP social/JJ problem/NN)\n",
            "  ,/,\n",
            "  it/PRP\n",
            "  is/VBZ\n",
            "  conventional/JJ\n",
            "  to/TO\n",
            "  begin/VB\n",
            "  with/IN\n",
            "  (NP a/DT statistical/JJ population/NN)\n",
            "  or/CC\n",
            "  (NP a/DT statistical/JJ model/NN)\n",
            "  to/TO\n",
            "  be/VB\n",
            "  studied/VBN)\n"
          ],
          "name": "stdout"
        }
      ]
    },
    {
      "cell_type": "code",
      "metadata": {
        "colab": {
          "base_uri": "https://localhost:8080/"
        },
        "id": "Fmsa0ynGSlAb",
        "outputId": "389c5a0d-c493-4058-bd07-d1a3d81f88e8"
      },
      "source": [
        "nltk.download('averaged_perceptron_tagger')\n",
        "from nltk import pos_tag\n",
        "from nltk import RegexpParser\n",
        "text =\"In applying statistics to a scientific, industrial, or social problem, it is conventional to begin with a statistical population or a statistical model to be studied\".split()\n",
        "print(\"After Split:\",text)\n",
        "tokens_tag = pos_tag(text)\n",
        "print(\"After Token:\",tokens_tag)\n",
        "patterns= \"\"\"mychunk:{<NN.?><VBD.?><JJ.?>*<CC>?}\"\"\"\n",
        "chunker = RegexpParser(patterns)\n",
        "print(\"After Regex:\",chunker)\n",
        "output = chunker.parse(tokens_tag)\n",
        "print(\"After Chunking\",output)"
      ],
      "execution_count": null,
      "outputs": [
        {
          "output_type": "stream",
          "text": [
            "[nltk_data] Downloading package averaged_perceptron_tagger to\n",
            "[nltk_data]     /root/nltk_data...\n",
            "[nltk_data]   Package averaged_perceptron_tagger is already up-to-\n",
            "[nltk_data]       date!\n",
            "After Split: ['In', 'applying', 'statistics', 'to', 'a', 'scientific,', 'industrial,', 'or', 'social', 'problem,', 'it', 'is', 'conventional', 'to', 'begin', 'with', 'a', 'statistical', 'population', 'or', 'a', 'statistical', 'model', 'to', 'be', 'studied']\n",
            "After Token: [('In', 'IN'), ('applying', 'VBG'), ('statistics', 'NNS'), ('to', 'TO'), ('a', 'DT'), ('scientific,', 'JJ'), ('industrial,', 'NN'), ('or', 'CC'), ('social', 'JJ'), ('problem,', 'NN'), ('it', 'PRP'), ('is', 'VBZ'), ('conventional', 'JJ'), ('to', 'TO'), ('begin', 'VB'), ('with', 'IN'), ('a', 'DT'), ('statistical', 'JJ'), ('population', 'NN'), ('or', 'CC'), ('a', 'DT'), ('statistical', 'JJ'), ('model', 'NN'), ('to', 'TO'), ('be', 'VB'), ('studied', 'VBN')]\n",
            "After Regex: chunk.RegexpParser with 1 stages:\n",
            "RegexpChunkParser with 1 rules:\n",
            "       <ChunkRule: '<NN.?><VBD.?><JJ.?>*<CC>?'>\n",
            "After Chunking (S\n",
            "  In/IN\n",
            "  applying/VBG\n",
            "  statistics/NNS\n",
            "  to/TO\n",
            "  a/DT\n",
            "  scientific,/JJ\n",
            "  industrial,/NN\n",
            "  or/CC\n",
            "  social/JJ\n",
            "  problem,/NN\n",
            "  it/PRP\n",
            "  is/VBZ\n",
            "  conventional/JJ\n",
            "  to/TO\n",
            "  begin/VB\n",
            "  with/IN\n",
            "  a/DT\n",
            "  statistical/JJ\n",
            "  population/NN\n",
            "  or/CC\n",
            "  a/DT\n",
            "  statistical/JJ\n",
            "  model/NN\n",
            "  to/TO\n",
            "  be/VB\n",
            "  studied/VBN)\n"
          ],
          "name": "stdout"
        }
      ]
    },
    {
      "cell_type": "code",
      "metadata": {
        "colab": {
          "base_uri": "https://localhost:8080/"
        },
        "id": "CC_ieSY3SogP",
        "outputId": "b2d28846-fcfa-46fb-f780-65136b3f9ec3"
      },
      "source": [
        "print(cp.parse(sentence))"
      ],
      "execution_count": null,
      "outputs": [
        {
          "output_type": "stream",
          "text": [
            "(S\n",
            "  In/IN\n",
            "  applying/VBG\n",
            "  statistics/NNS\n",
            "  to/TO\n",
            "  a/DT\n",
            "  scientific/JJ\n",
            "  ,/,\n",
            "  industrial/JJ\n",
            "  ,/,\n",
            "  or/CC\n",
            "  (NP social/JJ problem/NN)\n",
            "  ,/,\n",
            "  it/PRP\n",
            "  is/VBZ\n",
            "  conventional/JJ\n",
            "  to/TO\n",
            "  begin/VB\n",
            "  with/IN\n",
            "  (NP a/DT statistical/JJ population/NN)\n",
            "  or/CC\n",
            "  (NP a/DT statistical/JJ model/NN)\n",
            "  to/TO\n",
            "  be/VB\n",
            "  studied/VBN)\n"
          ],
          "name": "stdout"
        }
      ]
    },
    {
      "cell_type": "code",
      "metadata": {
        "colab": {
          "base_uri": "https://localhost:8080/"
        },
        "id": "PbZB15QRStsw",
        "outputId": "0e01743b-1711-4e94-e262-29a06416469f"
      },
      "source": [
        "nouns = [(\"model\", \"NN\"),(\"population\", \"NN\"),(\"problem\", \"NN\")]\n",
        "grammar = \"NP: {<NN><NN>} # Chunk two consecutive nouns\"\n",
        "cp = nltk.RegexpParser(grammar)\n",
        "print(cp.parse(nouns))"
      ],
      "execution_count": null,
      "outputs": [
        {
          "output_type": "stream",
          "text": [
            "(S (NP model/NN population/NN) problem/NN)\n"
          ],
          "name": "stdout"
        }
      ]
    },
    {
      "cell_type": "code",
      "metadata": {
        "colab": {
          "base_uri": "https://localhost:8080/"
        },
        "id": "7NenQBXUSxnp",
        "outputId": "fdbaac4a-d97e-49ef-8c43-c21cf7e12ac8"
      },
      "source": [
        "import nltk\n",
        "from nltk.corpus import stopwords\n",
        "from nltk.tokenize import word_tokenize, sent_tokenize\n",
        "nltk.download('stopwords')\n",
        "stop_words = set(stopwords.words('english'))\n",
        "nltk.download('averaged_perceptron_tagger')\n",
        "text = \"In applying statistics to a scientific, industrial, or social problem, it is conventional to begin with a statistical population or a statistical model to be studied.\"\n",
        "tokenized = sent_tokenize(text)\n",
        "for i in tokenized:\n",
        " wordsList = nltk.word_tokenize(i)\n",
        " wordsList = [w for w in wordsList if not w in stop_words] \n",
        " tagged = nltk.pos_tag(wordsList) \n",
        "print(tagged)"
      ],
      "execution_count": null,
      "outputs": [
        {
          "output_type": "stream",
          "text": [
            "[nltk_data] Downloading package stopwords to /root/nltk_data...\n",
            "[nltk_data]   Package stopwords is already up-to-date!\n",
            "[nltk_data] Downloading package averaged_perceptron_tagger to\n",
            "[nltk_data]     /root/nltk_data...\n",
            "[nltk_data]   Package averaged_perceptron_tagger is already up-to-\n",
            "[nltk_data]       date!\n",
            "[('In', 'IN'), ('applying', 'VBG'), ('statistics', 'NNS'), ('scientific', 'JJ'), (',', ','), ('industrial', 'JJ'), (',', ','), ('social', 'JJ'), ('problem', 'NN'), (',', ','), ('conventional', 'JJ'), ('begin', 'VB'), ('statistical', 'JJ'), ('population', 'NN'), ('statistical', 'JJ'), ('model', 'NN'), ('studied', 'VBN'), ('.', '.')]\n"
          ],
          "name": "stdout"
        }
      ]
    },
    {
      "cell_type": "code",
      "metadata": {
        "colab": {
          "base_uri": "https://localhost:8080/"
        },
        "id": "v6xCxCXSSz0B",
        "outputId": "4a09bc95-06e4-45b5-d968-bbbbfb1ddc3a"
      },
      "source": [
        "documents = [\"Statistics is the discipline that concerns the collection, organization, analysis, interpretation, and presentation of data. In applying statistics to a scientific, industrial, or social problem, it is conventional to begin with a statistical population or a statistical model to be studied. Populations can be diverse groups of people or objects such as 'all people living in a country' or 'every atom composing a crystal'. Statistics deals with every aspect of data, including the planning of data collection in terms of the design of surveys and experiments.\"]\n",
        "lower_case_documents = []\n",
        "for i in documents:\n",
        "    lower_case_documents.append(i.lower())\n",
        "print(lower_case_documents)"
      ],
      "execution_count": null,
      "outputs": [
        {
          "output_type": "stream",
          "text": [
            "[\"statistics is the discipline that concerns the collection, organization, analysis, interpretation, and presentation of data. in applying statistics to a scientific, industrial, or social problem, it is conventional to begin with a statistical population or a statistical model to be studied. populations can be diverse groups of people or objects such as 'all people living in a country' or 'every atom composing a crystal'. statistics deals with every aspect of data, including the planning of data collection in terms of the design of surveys and experiments.\"]\n"
          ],
          "name": "stdout"
        }
      ]
    },
    {
      "cell_type": "code",
      "metadata": {
        "colab": {
          "base_uri": "https://localhost:8080/"
        },
        "id": "aN0ddSNwS3MO",
        "outputId": "f8b43633-44b7-4248-e3dd-fb15c09ae542"
      },
      "source": [
        "sans_punctuation_documents = []\n",
        "import string\n",
        "\n",
        "for i in lower_case_documents:\n",
        "    sans_punctuation_documents.append(''.join(c for c in i if c not in string.punctuation))\n",
        "    \n",
        "print(sans_punctuation_documents)"
      ],
      "execution_count": null,
      "outputs": [
        {
          "output_type": "stream",
          "text": [
            "['statistics is the discipline that concerns the collection organization analysis interpretation and presentation of data in applying statistics to a scientific industrial or social problem it is conventional to begin with a statistical population or a statistical model to be studied populations can be diverse groups of people or objects such as all people living in a country or every atom composing a crystal statistics deals with every aspect of data including the planning of data collection in terms of the design of surveys and experiments']\n"
          ],
          "name": "stdout"
        }
      ]
    },
    {
      "cell_type": "code",
      "metadata": {
        "colab": {
          "base_uri": "https://localhost:8080/"
        },
        "id": "8w25IRLVS7EB",
        "outputId": "aeb84f2f-27fa-43e9-bc65-5cb68b35a0b9"
      },
      "source": [
        "preprocessed_documents = []\n",
        "for i in sans_punctuation_documents:\n",
        "    preprocessed_documents.append(i.split(' '))\n",
        "print(preprocessed_documents)"
      ],
      "execution_count": null,
      "outputs": [
        {
          "output_type": "stream",
          "text": [
            "[['statistics', 'is', 'the', 'discipline', 'that', 'concerns', 'the', 'collection', 'organization', 'analysis', 'interpretation', 'and', 'presentation', 'of', 'data', 'in', 'applying', 'statistics', 'to', 'a', 'scientific', 'industrial', 'or', 'social', 'problem', 'it', 'is', 'conventional', 'to', 'begin', 'with', 'a', 'statistical', 'population', 'or', 'a', 'statistical', 'model', 'to', 'be', 'studied', 'populations', 'can', 'be', 'diverse', 'groups', 'of', 'people', 'or', 'objects', 'such', 'as', 'all', 'people', 'living', 'in', 'a', 'country', 'or', 'every', 'atom', 'composing', 'a', 'crystal', 'statistics', 'deals', 'with', 'every', 'aspect', 'of', 'data', 'including', 'the', 'planning', 'of', 'data', 'collection', 'in', 'terms', 'of', 'the', 'design', 'of', 'surveys', 'and', 'experiments']]\n"
          ],
          "name": "stdout"
        }
      ]
    },
    {
      "cell_type": "code",
      "metadata": {
        "colab": {
          "base_uri": "https://localhost:8080/"
        },
        "id": "g1keDF0FS969",
        "outputId": "dcf1582d-4206-476b-838b-89bf958ffaf8"
      },
      "source": [
        "frequency_list = []\n",
        "import pprint\n",
        "from collections import Counter\n",
        "\n",
        "for i in preprocessed_documents:\n",
        "    frequency_list.append(Counter(i))\n",
        "    \n",
        "pprint.pprint(frequency_list)"
      ],
      "execution_count": null,
      "outputs": [
        {
          "output_type": "stream",
          "text": [
            "[Counter({'of': 6,\n",
            "          'a': 5,\n",
            "          'the': 4,\n",
            "          'or': 4,\n",
            "          'statistics': 3,\n",
            "          'data': 3,\n",
            "          'in': 3,\n",
            "          'to': 3,\n",
            "          'is': 2,\n",
            "          'collection': 2,\n",
            "          'and': 2,\n",
            "          'with': 2,\n",
            "          'statistical': 2,\n",
            "          'be': 2,\n",
            "          'people': 2,\n",
            "          'every': 2,\n",
            "          'discipline': 1,\n",
            "          'that': 1,\n",
            "          'concerns': 1,\n",
            "          'organization': 1,\n",
            "          'analysis': 1,\n",
            "          'interpretation': 1,\n",
            "          'presentation': 1,\n",
            "          'applying': 1,\n",
            "          'scientific': 1,\n",
            "          'industrial': 1,\n",
            "          'social': 1,\n",
            "          'problem': 1,\n",
            "          'it': 1,\n",
            "          'conventional': 1,\n",
            "          'begin': 1,\n",
            "          'population': 1,\n",
            "          'model': 1,\n",
            "          'studied': 1,\n",
            "          'populations': 1,\n",
            "          'can': 1,\n",
            "          'diverse': 1,\n",
            "          'groups': 1,\n",
            "          'objects': 1,\n",
            "          'such': 1,\n",
            "          'as': 1,\n",
            "          'all': 1,\n",
            "          'living': 1,\n",
            "          'country': 1,\n",
            "          'atom': 1,\n",
            "          'composing': 1,\n",
            "          'crystal': 1,\n",
            "          'deals': 1,\n",
            "          'aspect': 1,\n",
            "          'including': 1,\n",
            "          'planning': 1,\n",
            "          'terms': 1,\n",
            "          'design': 1,\n",
            "          'surveys': 1,\n",
            "          'experiments': 1})]\n"
          ],
          "name": "stdout"
        }
      ]
    },
    {
      "cell_type": "code",
      "metadata": {
        "colab": {
          "base_uri": "https://localhost:8080/"
        },
        "id": "0EZZmtvjTBYV",
        "outputId": "261a83f2-0c2f-4c96-b0e2-9311310a1435"
      },
      "source": [
        "import nltk\n",
        "from nltk.stem.porter import *\n",
        "\n",
        "porterStemmer = PorterStemmer()\n",
        "\n",
        "text = \"Statistics is the discipline that concerns the collection, organization, analysis, interpretation, and presentation of data. In applying statistics to a scientific, industrial, or social problem, it is conventional to begin with a statistical population or a statistical model to be studied. Populations can be diverse groups of people or objects such as 'all people living in a country' or 'every atom composing a crystal'. Statistics deals with every aspect of data, including the planning of data collection in terms of the design of surveys and experiments.\"\n",
        "wordList = nltk.word_tokenize(text)\n",
        "\n",
        "stemWords = [porterStemmer.stem(word) for word in wordList]\n",
        "\n",
        "print(' '.join(stemWords))"
      ],
      "execution_count": null,
      "outputs": [
        {
          "output_type": "stream",
          "text": [
            "statist is the disciplin that concern the collect , organ , analysi , interpret , and present of data . In appli statist to a scientif , industri , or social problem , it is convent to begin with a statist popul or a statist model to be studi . popul can be divers group of peopl or object such as 'all peopl live in a countri ' or 'everi atom compos a crystal ' . statist deal with everi aspect of data , includ the plan of data collect in term of the design of survey and experi .\n"
          ],
          "name": "stdout"
        }
      ]
    },
    {
      "cell_type": "code",
      "metadata": {
        "colab": {
          "base_uri": "https://localhost:8080/"
        },
        "id": "esr906Q_aO47",
        "outputId": "8984ec6a-575c-4035-fd8a-72a8f76e5fcf"
      },
      "source": [
        "from nltk.corpus import wordnet as wn\n",
        "from nltk.stem.wordnet import WordNetLemmatizer\n",
        "from nltk import word_tokenize, pos_tag\n",
        "from collections import defaultdict\n",
        "tag_map = defaultdict(lambda : wn.NOUN)\n",
        "tag_map['J'] = wn.ADJ\n",
        "tag_map['V'] = wn.VERB\n",
        "tag_map['R'] = wn.ADV\n",
        "\n",
        "text = \"Statistics is the discipline that concerns the collection, organization, analysis, interpretation, and presentation of data. In applying statistics to a scientific, industrial, or social problem, it is conventional to begin with a statistical population or a statistical model to be studied. Populations can be diverse groups of people or objects such as 'all people living in a country' or 'every atom composing a crystal'. Statistics deals with every aspect of data, including the planning of data collection in terms of the design of surveys and experiments.\"\n",
        "tokens = word_tokenize(text)\n",
        "lemma_function = WordNetLemmatizer()\n",
        "for token, tag in pos_tag(tokens):\n",
        "\t\tlemma = lemma_function.lemmatize(token, tag_map[tag[0]])\n",
        "\t\tprint(token, \"=>\", lemma)"
      ],
      "execution_count": null,
      "outputs": [
        {
          "output_type": "stream",
          "text": [
            "Statistics => Statistics\n",
            "is => be\n",
            "the => the\n",
            "discipline => discipline\n",
            "that => that\n",
            "concerns => concern\n",
            "the => the\n",
            "collection => collection\n",
            ", => ,\n",
            "organization => organization\n",
            ", => ,\n",
            "analysis => analysis\n",
            ", => ,\n",
            "interpretation => interpretation\n",
            ", => ,\n",
            "and => and\n",
            "presentation => presentation\n",
            "of => of\n",
            "data => data\n",
            ". => .\n",
            "In => In\n",
            "applying => apply\n",
            "statistics => statistic\n",
            "to => to\n",
            "a => a\n",
            "scientific => scientific\n",
            ", => ,\n",
            "industrial => industrial\n",
            ", => ,\n",
            "or => or\n",
            "social => social\n",
            "problem => problem\n",
            ", => ,\n",
            "it => it\n",
            "is => be\n",
            "conventional => conventional\n",
            "to => to\n",
            "begin => begin\n",
            "with => with\n",
            "a => a\n",
            "statistical => statistical\n",
            "population => population\n",
            "or => or\n",
            "a => a\n",
            "statistical => statistical\n",
            "model => model\n",
            "to => to\n",
            "be => be\n",
            "studied => study\n",
            ". => .\n",
            "Populations => Populations\n",
            "can => can\n",
            "be => be\n",
            "diverse => diverse\n",
            "groups => group\n",
            "of => of\n",
            "people => people\n",
            "or => or\n",
            "objects => object\n",
            "such => such\n",
            "as => a\n",
            "'all => 'all\n",
            "people => people\n",
            "living => live\n",
            "in => in\n",
            "a => a\n",
            "country => country\n",
            "' => '\n",
            "or => or\n",
            "'every => 'every\n",
            "atom => atom\n",
            "composing => compose\n",
            "a => a\n",
            "crystal => crystal\n",
            "' => '\n",
            ". => .\n",
            "Statistics => Statistics\n",
            "deals => deal\n",
            "with => with\n",
            "every => every\n",
            "aspect => aspect\n",
            "of => of\n",
            "data => data\n",
            ", => ,\n",
            "including => include\n",
            "the => the\n",
            "planning => planning\n",
            "of => of\n",
            "data => data\n",
            "collection => collection\n",
            "in => in\n",
            "terms => term\n",
            "of => of\n",
            "the => the\n",
            "design => design\n",
            "of => of\n",
            "surveys => survey\n",
            "and => and\n",
            "experiments => experiment\n",
            ". => .\n"
          ],
          "name": "stdout"
        }
      ]
    },
    {
      "cell_type": "code",
      "metadata": {
        "colab": {
          "base_uri": "https://localhost:8080/"
        },
        "id": "kcvhbwV-TEtw",
        "outputId": "629b791a-6b0a-465a-9344-3d67cdd879a7"
      },
      "source": [
        "from nltk.corpus import wordnet\n",
        "synonyms = []\n",
        "antonyms = []\n",
        "\n",
        "for syn in wordnet.synsets(\"Population\"):\n",
        "    for l in syn.lemmas():\n",
        "        synonyms.append(l.name())\n",
        "        if l.antonyms():\n",
        "            antonyms.append(l.antonyms()[0].name())\n",
        "print(\"\\nSet of synonyms of the said word:\")\n",
        "print(set(synonyms))\n",
        "print(\"\\nSet of antonyms of the said word:\")\n",
        "print(set(antonyms))"
      ],
      "execution_count": null,
      "outputs": [
        {
          "output_type": "stream",
          "text": [
            "\n",
            "Set of synonyms of the said word:\n",
            "{'universe', 'population'}\n",
            "\n",
            "Set of antonyms of the said word:\n",
            "set()\n"
          ],
          "name": "stdout"
        }
      ]
    },
    {
      "cell_type": "code",
      "metadata": {
        "colab": {
          "base_uri": "https://localhost:8080/"
        },
        "id": "dCWMlUIkTaH9",
        "outputId": "f317b261-f038-48a8-b327-87c2769afcdd"
      },
      "source": [
        "from nltk.corpus import wordnet\n",
        "synonyms = []\n",
        "antonyms = []\n",
        "\n",
        "for syn in wordnet.synsets(\"Model\"):\n",
        "    for l in syn.lemmas():\n",
        "        synonyms.append(l.name())\n",
        "        if l.antonyms():\n",
        "            antonyms.append(l.antonyms()[0].name())\n",
        "print(\"\\nSet of synonyms of the said word:\")\n",
        "print(set(synonyms))\n",
        "print(\"\\nSet of antonyms of the said word:\")\n",
        "print(set(antonyms))"
      ],
      "execution_count": null,
      "outputs": [
        {
          "output_type": "stream",
          "text": [
            "\n",
            "Set of synonyms of the said word:\n",
            "{'exemplary', 'poser', 'mould', 'manikin', 'mold', 'good_example', 'simulation', 'framework', 'manakin', 'modelling', 'mannequin', 'mannikin', 'mock_up', 'pose', 'posture', 'modeling', 'model', 'sit', 'role_model', 'example', 'theoretical_account', 'fashion_model', 'simulate', 'exemplar', 'pattern'}\n",
            "\n",
            "Set of antonyms of the said word:\n",
            "set()\n"
          ],
          "name": "stdout"
        }
      ]
    }
  ]
}